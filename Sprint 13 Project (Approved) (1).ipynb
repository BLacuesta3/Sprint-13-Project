{
 "cells": [
  {
   "cell_type": "markdown",
   "metadata": {},
   "source": [
    "<div style=\"border:solid blue 2px; padding: 20px\">\n",
    "\n",
    "**Overall Summary of the Project**\n",
    "\n",
    "Hi Byron! 👋 Thanks for submitting such a comprehensive and detailed notebook. I can tell you put a ton of effort into both the **exploration** and **modeling** phases, and it shows! Here’s my feedback:\n",
    "\n",
    "---\n",
    "\n",
    "**🟢 Strengths**\n",
    "    \n",
    "- **Excellent Breadth:** You tested a wide variety of models, from Linear Regression to AR, ARMA, SARIMAX, and ensemble methods (Random Forest, LightGBM) — that’s fantastic range! 👏\n",
    "- **Clear Explanations:** You explained your rationale, results, and even your adjustments (like dropping duplicates, scaling, differencing) in great detail, which shows deep understanding.\n",
    "- **Solid EDA:** The decomposition, ACF/PACF, and rolling statistics were well executed and described.\n",
    "- **Final Conclusion:** Very clear ranking and critical reflection on each model's performance with percentages — nice touch!\n",
    "---\n",
    "\n",
    "**🔴 Areas of improvement**\n",
    "    \n",
    "- **Typo:** You have `learing_rate=0.1` instead of `learning_rate` in your LightGBM hyperparameters — I spotted that small bug. Luckily it likely didn’t affect results here because of GridSearch, but worth fixing! 🔧\n",
    "\n",
    "---\n",
    "    \n",
    "**✅ Approved.**  \n",
    "    \n",
    "Byron, this was a fantastic project with clear EDA, deep modeling, and thoughtful conclusions. The Linear Regression model hitting the RMSE requirement is great, and your insight into why the time series models didn’t outperform was also spot on. With just a bit of tidying and checklist care, this would be even sharper. Great job overall! 🚖📈🔥"
   ]
  },
  {
   "cell_type": "markdown",
   "metadata": {},
   "source": [
    "#### Title: \n",
    "Sprint 13 Project\n",
    "Time Series "
   ]
  },
  {
   "cell_type": "markdown",
   "metadata": {},
   "source": [
    "#### Summary"
   ]
  },
  {
   "cell_type": "markdown",
   "metadata": {},
   "source": [
    "   This project involves the use of Time Series.  In this project, I will try to train various models in order to make predictions\n",
    "for the Sweet Lift Taxi Company. The models that I have chosen to use are: Linear Regression, Random Forest Regressor, Light GBM,\n",
    "Autoregression, ARMA and SARIMAX.  This project also includes an EDA section that consists of a histogram chart that displays the distribution\n",
    "of the number of orders for the Sweet Lift Taxi company, and decomposed charts that shows information about: the trend, seasonality and residuals."
   ]
  },
  {
   "cell_type": "markdown",
   "metadata": {},
   "source": [
    "# Project description\n",
    "\n",
    "Sweet Lift Taxi company has collected historical data on taxi orders at airports. To attract more drivers during peak hours, we need to predict the amount of taxi orders for the next hour. Build a model for such a prediction.\n",
    "\n",
    "The RMSE metric on the test set should not be more than 48.\n",
    "\n",
    "## Project instructions\n",
    "\n",
    "1. Download the data and resample it by one hour.\n",
    "2. Analyze the data.\n",
    "3. Train different models with different hyperparameters. The test sample should be 10% of the initial dataset. \n",
    "4. Test the data using the test sample and provide a conclusion.\n",
    "\n",
    "## Data description\n",
    "\n",
    "The data is stored in file `taxi.csv`. The number of orders is in the '*num_orders*' column."
   ]
  },
  {
   "cell_type": "markdown",
   "metadata": {},
   "source": [
    "## Preparation"
   ]
  },
  {
   "cell_type": "code",
   "execution_count": 1,
   "metadata": {},
   "outputs": [],
   "source": [
    "#Import the necessary libraries.\n",
    "import pandas as pd \n",
    "\n",
    "from sklearn.model_selection import train_test_split \n",
    "\n",
    "import seaborn as sns \n",
    "\n",
    "import matplotlib.pyplot as plt \n",
    "\n",
    "from statsmodels.tsa.seasonal import seasonal_decompose, STL\n",
    "\n",
    "from statsmodels.tsa.stattools import adfuller, arma_order_select_ic\n",
    "\n",
    "from statsmodels.graphics.tsaplots import plot_acf, plot_pacf\n",
    "\n",
    "import numpy as np \n",
    "\n",
    "from sklearn.metrics import mean_squared_error, make_scorer \n",
    "\n",
    "from sklearn.linear_model import LinearRegression \n",
    "\n",
    "from statsmodels.tsa.arima.model import ARIMA  \n",
    "\n",
    "from pmdarima import auto_arima \n",
    "\n",
    "from statsmodels.tsa.statespace.sarimax import SARIMAX \n",
    "\n",
    "from sklearn.ensemble import RandomForestRegressor \n",
    "\n",
    "from sklearn.model_selection import GridSearchCV  \n",
    " \n",
    "from statsmodels.tsa.ar_model import AutoReg, ar_select_order \n",
    "\n",
    "import matplotlib.dates as mdates \n",
    "\n",
    "from sklearn.preprocessing import StandardScaler \n",
    "\n",
    "from lightgbm import LGBMRegressor"
   ]
  },
  {
   "cell_type": "code",
   "execution_count": 2,
   "metadata": {},
   "outputs": [],
   "source": [
    "#Use a try and except clause in order to use the pd.read_csv() function on a local and non local computer.\n",
    "#Use the index_col() method in order to make the first column the index of the dataframe and the parse_dates() \n",
    "#method in order to parse the dates of the first column of the dataset.\n",
    "try:\n",
    "    data = pd.read_csv('/datasets/taxi.csv', index_col=[0], parse_dates=[0])\n",
    "except:\n",
    "    data = pd.read_csv('taxi.csv', index_col=[0], parse_dates=[0])"
   ]
  },
  {
   "cell_type": "code",
   "execution_count": 3,
   "metadata": {},
   "outputs": [],
   "source": [
    "#Use the sort_index() method in order to sort the dataframe's index.\n",
    "data.sort_index(inplace=True) "
   ]
  },
  {
   "cell_type": "code",
   "execution_count": 4,
   "metadata": {},
   "outputs": [
    {
     "name": "stdout",
     "output_type": "stream",
     "text": [
      "True\n"
     ]
    }
   ],
   "source": [
    "#Use the is_monotonic_increasing() method in order to verify if the index is sorted in\n",
    "#increasing order.\n",
    "try:\n",
    "    print(data.index.is_monotonic_increasing)\n",
    "except:\n",
    "    print(data.index.is_monotonic)"
   ]
  },
  {
   "cell_type": "code",
   "execution_count": 5,
   "metadata": {},
   "outputs": [
    {
     "name": "stdout",
     "output_type": "stream",
     "text": [
      "False\n"
     ]
    }
   ],
   "source": [
    "#Use the is_monotonic_increasing() method in order to verify if the index is sorted in\n",
    "#decreasing order.\n",
    "try:\n",
    "    print(data.index.is_monotonic_decreasing) \n",
    "except:\n",
    "    print(data.index_is_monotonic)"
   ]
  },
  {
   "cell_type": "markdown",
   "metadata": {},
   "source": [
    "Note To Reviewer:\n",
    "The index_is_monotonic() method returns an error when I try to run the code in my computer.  So, I decided to you a\n",
    "try and except clause in case the is_monotonic_increasing() and is_monotonic_decreasing() methods do not work on your\n",
    "computer as well.  My apologies for the inconvenience."
   ]
  },
  {
   "cell_type": "markdown",
   "metadata": {},
   "source": [
    "Code Result:\n",
    "The result of the is_monotonic_increasing() method came out as \"True\", which would indicate that the index is sorted in increasing order.\n",
    "The result of the is_monotonic_decreasing() method came out as \"False\", which would indicate that the index is not sorted in decreasing\n",
    "order.  According to the results, the index of the data is sorted appropriately for the task (increasing/ascending order)."
   ]
  },
  {
   "cell_type": "code",
   "execution_count": 6,
   "metadata": {},
   "outputs": [
    {
     "name": "stdout",
     "output_type": "stream",
     "text": [
      "0\n"
     ]
    }
   ],
   "source": [
    "#Remove all first duplicate value occurences before resampling.\n",
    "print(data.index.duplicated().sum()) \n",
    "\n",
    "data = data[~data.index.duplicated(keep='first')] \n",
    "\n",
    "#Use the resample() and sum methods in order to resample the data in a way that\n",
    "#displays the total sum per hour of num_orders.\n",
    "data = data.resample('1H').sum()"
   ]
  },
  {
   "cell_type": "code",
   "execution_count": 7,
   "metadata": {},
   "outputs": [
    {
     "data": {
      "text/html": [
       "<div>\n",
       "<style scoped>\n",
       "    .dataframe tbody tr th:only-of-type {\n",
       "        vertical-align: middle;\n",
       "    }\n",
       "\n",
       "    .dataframe tbody tr th {\n",
       "        vertical-align: top;\n",
       "    }\n",
       "\n",
       "    .dataframe thead th {\n",
       "        text-align: right;\n",
       "    }\n",
       "</style>\n",
       "<table border=\"1\" class=\"dataframe\">\n",
       "  <thead>\n",
       "    <tr style=\"text-align: right;\">\n",
       "      <th></th>\n",
       "      <th>num_orders</th>\n",
       "    </tr>\n",
       "    <tr>\n",
       "      <th>datetime</th>\n",
       "      <th></th>\n",
       "    </tr>\n",
       "  </thead>\n",
       "  <tbody>\n",
       "    <tr>\n",
       "      <th>2018-03-01 00:00:00</th>\n",
       "      <td>124</td>\n",
       "    </tr>\n",
       "    <tr>\n",
       "      <th>2018-03-01 01:00:00</th>\n",
       "      <td>85</td>\n",
       "    </tr>\n",
       "    <tr>\n",
       "      <th>2018-03-01 02:00:00</th>\n",
       "      <td>71</td>\n",
       "    </tr>\n",
       "    <tr>\n",
       "      <th>2018-03-01 03:00:00</th>\n",
       "      <td>66</td>\n",
       "    </tr>\n",
       "    <tr>\n",
       "      <th>2018-03-01 04:00:00</th>\n",
       "      <td>43</td>\n",
       "    </tr>\n",
       "  </tbody>\n",
       "</table>\n",
       "</div>"
      ],
      "text/plain": [
       "                     num_orders\n",
       "datetime                       \n",
       "2018-03-01 00:00:00         124\n",
       "2018-03-01 01:00:00          85\n",
       "2018-03-01 02:00:00          71\n",
       "2018-03-01 03:00:00          66\n",
       "2018-03-01 04:00:00          43"
      ]
     },
     "execution_count": 7,
     "metadata": {},
     "output_type": "execute_result"
    }
   ],
   "source": [
    "#Use the head() method in order to check the first five rows of the dataframe.\n",
    "data.head()"
   ]
  },
  {
   "cell_type": "markdown",
   "metadata": {},
   "source": [
    "Code Result:\n",
    "It appears that the dataframe was created successfully with parsed dates and index."
   ]
  },
  {
   "cell_type": "code",
   "execution_count": 8,
   "metadata": {},
   "outputs": [
    {
     "data": {
      "text/plain": [
       "num_orders    0\n",
       "dtype: int64"
      ]
     },
     "execution_count": 8,
     "metadata": {},
     "output_type": "execute_result"
    }
   ],
   "source": [
    "#Use the isna() and sum() methods in order to check the dataframe for missing values.\n",
    "data.isna().sum()"
   ]
  },
  {
   "cell_type": "markdown",
   "metadata": {},
   "source": [
    "Code Result:\n",
    "There are no missing values noted in the dataframe."
   ]
  },
  {
   "cell_type": "code",
   "execution_count": 9,
   "metadata": {},
   "outputs": [
    {
     "data": {
      "text/plain": [
       "4165"
      ]
     },
     "execution_count": 9,
     "metadata": {},
     "output_type": "execute_result"
    }
   ],
   "source": [
    "#Use the duplicated() and sum() methods in order to count the number of duplicate values in the\n",
    "#dataframe.\n",
    "data.duplicated().sum() "
   ]
  },
  {
   "cell_type": "markdown",
   "metadata": {},
   "source": [
    "Code Result:\n",
    "There are 4,165 duplicate values noted in the dataframe."
   ]
  },
  {
   "cell_type": "code",
   "execution_count": 10,
   "metadata": {},
   "outputs": [],
   "source": [
    "#Use the drop_duplicates() method in order to drop duplicate values from the dataframe.\n",
    "data = data.drop_duplicates() "
   ]
  },
  {
   "cell_type": "code",
   "execution_count": 11,
   "metadata": {},
   "outputs": [
    {
     "data": {
      "text/plain": [
       "0"
      ]
     },
     "execution_count": 11,
     "metadata": {},
     "output_type": "execute_result"
    }
   ],
   "source": [
    "#Use the duplicated() and sum() methods in order to double check the dataframe for duplicate values.\n",
    "data.duplicated().sum()"
   ]
  },
  {
   "cell_type": "markdown",
   "metadata": {},
   "source": [
    "Code Result:\n",
    "There are no longer any duplicate values noted in the dataframe.  The duplicate values were successfully removed."
   ]
  },
  {
   "cell_type": "code",
   "execution_count": 12,
   "metadata": {},
   "outputs": [
    {
     "name": "stdout",
     "output_type": "stream",
     "text": [
      "<class 'pandas.core.frame.DataFrame'>\n",
      "DatetimeIndex: 251 entries, 2018-03-01 00:00:00 to 2018-08-31 18:00:00\n",
      "Data columns (total 1 columns):\n",
      " #   Column      Non-Null Count  Dtype\n",
      "---  ------      --------------  -----\n",
      " 0   num_orders  251 non-null    int64\n",
      "dtypes: int64(1)\n",
      "memory usage: 3.9 KB\n"
     ]
    }
   ],
   "source": [
    "#Use the info() method in order to check the data types in the dataframe.\n",
    "data.info()"
   ]
  },
  {
   "cell_type": "markdown",
   "metadata": {},
   "source": [
    "Code Result:\n",
    "It appears that the num_orders column of the dataframe has the appropriate data type (int64)."
   ]
  },
  {
   "cell_type": "code",
   "execution_count": 13,
   "metadata": {},
   "outputs": [
    {
     "data": {
      "text/html": [
       "<div>\n",
       "<style scoped>\n",
       "    .dataframe tbody tr th:only-of-type {\n",
       "        vertical-align: middle;\n",
       "    }\n",
       "\n",
       "    .dataframe tbody tr th {\n",
       "        vertical-align: top;\n",
       "    }\n",
       "\n",
       "    .dataframe thead th {\n",
       "        text-align: right;\n",
       "    }\n",
       "</style>\n",
       "<table border=\"1\" class=\"dataframe\">\n",
       "  <thead>\n",
       "    <tr style=\"text-align: right;\">\n",
       "      <th></th>\n",
       "      <th>num_orders</th>\n",
       "    </tr>\n",
       "  </thead>\n",
       "  <tbody>\n",
       "    <tr>\n",
       "      <th>count</th>\n",
       "      <td>251.000000</td>\n",
       "    </tr>\n",
       "    <tr>\n",
       "      <th>mean</th>\n",
       "      <td>130.023904</td>\n",
       "    </tr>\n",
       "    <tr>\n",
       "      <th>std</th>\n",
       "      <td>83.203746</td>\n",
       "    </tr>\n",
       "    <tr>\n",
       "      <th>min</th>\n",
       "      <td>0.000000</td>\n",
       "    </tr>\n",
       "    <tr>\n",
       "      <th>25%</th>\n",
       "      <td>62.500000</td>\n",
       "    </tr>\n",
       "    <tr>\n",
       "      <th>50%</th>\n",
       "      <td>125.000000</td>\n",
       "    </tr>\n",
       "    <tr>\n",
       "      <th>75%</th>\n",
       "      <td>188.500000</td>\n",
       "    </tr>\n",
       "    <tr>\n",
       "      <th>max</th>\n",
       "      <td>462.000000</td>\n",
       "    </tr>\n",
       "  </tbody>\n",
       "</table>\n",
       "</div>"
      ],
      "text/plain": [
       "       num_orders\n",
       "count  251.000000\n",
       "mean   130.023904\n",
       "std     83.203746\n",
       "min      0.000000\n",
       "25%     62.500000\n",
       "50%    125.000000\n",
       "75%    188.500000\n",
       "max    462.000000"
      ]
     },
     "execution_count": 13,
     "metadata": {},
     "output_type": "execute_result"
    }
   ],
   "source": [
    "#Use the describe() method in order to check the min and max values of the dataframe.\n",
    "data.describe()"
   ]
  },
  {
   "cell_type": "markdown",
   "metadata": {},
   "source": [
    "Code Result:\n",
    "It appears that there are 0 values in the dataframe.  These values will be removed in the cell below."
   ]
  },
  {
   "cell_type": "code",
   "execution_count": 14,
   "metadata": {},
   "outputs": [
    {
     "data": {
      "text/html": [
       "<div>\n",
       "<style scoped>\n",
       "    .dataframe tbody tr th:only-of-type {\n",
       "        vertical-align: middle;\n",
       "    }\n",
       "\n",
       "    .dataframe tbody tr th {\n",
       "        vertical-align: top;\n",
       "    }\n",
       "\n",
       "    .dataframe thead th {\n",
       "        text-align: right;\n",
       "    }\n",
       "</style>\n",
       "<table border=\"1\" class=\"dataframe\">\n",
       "  <thead>\n",
       "    <tr style=\"text-align: right;\">\n",
       "      <th></th>\n",
       "      <th>num_orders</th>\n",
       "    </tr>\n",
       "  </thead>\n",
       "  <tbody>\n",
       "    <tr>\n",
       "      <th>count</th>\n",
       "      <td>250.000000</td>\n",
       "    </tr>\n",
       "    <tr>\n",
       "      <th>mean</th>\n",
       "      <td>130.544000</td>\n",
       "    </tr>\n",
       "    <tr>\n",
       "      <th>std</th>\n",
       "      <td>82.960822</td>\n",
       "    </tr>\n",
       "    <tr>\n",
       "      <th>min</th>\n",
       "      <td>1.000000</td>\n",
       "    </tr>\n",
       "    <tr>\n",
       "      <th>25%</th>\n",
       "      <td>63.250000</td>\n",
       "    </tr>\n",
       "    <tr>\n",
       "      <th>50%</th>\n",
       "      <td>125.500000</td>\n",
       "    </tr>\n",
       "    <tr>\n",
       "      <th>75%</th>\n",
       "      <td>188.750000</td>\n",
       "    </tr>\n",
       "    <tr>\n",
       "      <th>max</th>\n",
       "      <td>462.000000</td>\n",
       "    </tr>\n",
       "  </tbody>\n",
       "</table>\n",
       "</div>"
      ],
      "text/plain": [
       "       num_orders\n",
       "count  250.000000\n",
       "mean   130.544000\n",
       "std     82.960822\n",
       "min      1.000000\n",
       "25%     63.250000\n",
       "50%    125.500000\n",
       "75%    188.750000\n",
       "max    462.000000"
      ]
     },
     "execution_count": 14,
     "metadata": {},
     "output_type": "execute_result"
    }
   ],
   "source": [
    "#Use conditional filtering in order to remove the 0 values in the num_orders column of the  data dataframe.\n",
    "data = data[data['num_orders'] > 0] \n",
    "\n",
    "#Use the describe method again in order to double check the min and max values of the dataframe.\n",
    "data.describe()"
   ]
  },
  {
   "cell_type": "markdown",
   "metadata": {},
   "source": [
    "Code Result:\n",
    "There are no longer any 0 values noted in the dataframe.  The 0 values were successfully removed."
   ]
  },
  {
   "cell_type": "markdown",
   "metadata": {},
   "source": [
    "## Analysis"
   ]
  },
  {
   "cell_type": "markdown",
   "metadata": {},
   "source": [
    "#### Number of Orders Histogram"
   ]
  },
  {
   "cell_type": "code",
   "execution_count": 15,
   "metadata": {},
   "outputs": [
    {
     "data": {
      "image/png": "[encoded data removed]",
      "text/plain": [
       "<Figure size 640x480 with 1 Axes>"
      ]
     },
     "metadata": {},
     "output_type": "display_data"
    }
   ],
   "source": [
    "#Use the sns.histplot() function in order to create a histogram of the distribution of the num_orders column of the\n",
    "#data dataframe.\n",
    "sns.histplot(data['num_orders']) \n",
    "\n",
    "plt.title('Number Of Orders Distribution Histogram')\n",
    "plt.xlabel('Number Of Orders') \n",
    "plt.tight_layout()"
   ]
  },
  {
   "cell_type": "markdown",
   "metadata": {},
   "source": [
    "Observation: \n",
    "According to the histogram, the number of orders quantity with the highest count is: approximately 1-40 orders with the a count of:\n",
    "approximately 38.  The number of orders quantity with the lowest count is: approximately 380-430 orders with the a count of:\n",
    "approximately 2.  "
   ]
  },
  {
   "cell_type": "markdown",
   "metadata": {},
   "source": [
    "#### Calculating Rolling Mean And Rolling STD"
   ]
  },
  {
   "cell_type": "code",
   "execution_count": 16,
   "metadata": {},
   "outputs": [
    {
     "data": {
      "text/plain": [
       "num_orders       0\n",
       "rolling_mean    23\n",
       "rolling_std     23\n",
       "dtype: int64"
      ]
     },
     "execution_count": 16,
     "metadata": {},
     "output_type": "execute_result"
    }
   ],
   "source": [
    "#Use the rolling(), mean() and std() methods in order to create columns\n",
    "#for the rolling mean and rolling standard deviation.\n",
    "data['rolling_mean'] = data['num_orders'].rolling(24).mean() \n",
    "data['rolling_std'] = data['num_orders'].rolling(24).std() \n",
    "\n",
    "#Use the isna() and sum() methods in order to check the dataframe for missing values.\n",
    "data.isna().sum()"
   ]
  },
  {
   "cell_type": "markdown",
   "metadata": {},
   "source": [
    "Code Result:\n",
    "It appears that there are missing values in the rolling_std and rolling_mean columns of the dataframe."
   ]
  },
  {
   "cell_type": "code",
   "execution_count": 17,
   "metadata": {},
   "outputs": [
    {
     "data": {
      "text/plain": [
       "num_orders      0\n",
       "rolling_mean    0\n",
       "rolling_std     0\n",
       "dtype: int64"
      ]
     },
     "execution_count": 17,
     "metadata": {},
     "output_type": "execute_result"
    }
   ],
   "source": [
    "#Use the dropna() method in order to remove the missing values in the data dataframe.\n",
    "data.dropna(inplace=True) \n",
    "\n",
    "#Use the isna() and sum() methods in order to double check for missing values in the data dataframe.\n",
    "data.isna().sum()"
   ]
  },
  {
   "cell_type": "markdown",
   "metadata": {},
   "source": [
    "Code Result: \n",
    "It appears that there are no longer any missing values in the data dataframe.  The missing values were\n",
    "successfully removed."
   ]
  },
  {
   "cell_type": "markdown",
   "metadata": {},
   "source": [
    "#### Data Plot (Rolling Mean And Rolling STD)"
   ]
  },
  {
   "cell_type": "code",
   "execution_count": 18,
   "metadata": {},
   "outputs": [
    {
     "data": {
      "text/plain": [
       "<AxesSubplot:xlabel='datetime'>"
      ]
     },
     "execution_count": 18,
     "metadata": {},
     "output_type": "execute_result"
    },
    {
     "data": {
      "image/png": "[encoded data removed]",
      "text/plain": [
       "<Figure size 640x480 with 1 Axes>"
      ]
     },
     "metadata": {},
     "output_type": "display_data"
    }
   ],
   "source": [
    "#Use the plot() method in order to plot the time series values of the columns in the\n",
    "#data dataframe.\n",
    "data.plot()"
   ]
  },
  {
   "cell_type": "markdown",
   "metadata": {},
   "source": [
    "Observation:\n",
    "According to the chart, the data appears nonstationary with significant outliers (peaks) noted from: 2018-08 to 2018-09. \n",
    "There appears to be an overall positive trend in the data, with the number of orders increasing overall throught the years,\n",
    "with small decreases followed by an almost equal increase. There seems to be a steady and overall increasing rolling mean.  The\n",
    "rolling standard deviation showed an overall steady decrease from 2018-03 to 2018-08, followed by an increase from 2018-08 to 2018-09."
   ]
  },
  {
   "cell_type": "markdown",
   "metadata": {},
   "source": [
    "#### Decomposed Charts"
   ]
  },
  {
   "cell_type": "code",
   "execution_count": 19,
   "metadata": {},
   "outputs": [],
   "source": [
    "#Use the seasona_decompose() function in order to create a decomposed dataframe\n",
    "#that includes: trends, seasonality, and residuals.\n",
    "decomposed = seasonal_decompose(data['num_orders'], period=24) "
   ]
  },
  {
   "cell_type": "code",
   "execution_count": 20,
   "metadata": {},
   "outputs": [
    {
     "data": {
      "text/plain": [
       "<Figure size 640x480 with 0 Axes>"
      ]
     },
     "metadata": {},
     "output_type": "display_data"
    },
    {
     "data": {
      "image/png": "[encoded data removed]",
      "text/plain": [
       "<Figure size 640x480 with 4 Axes>"
      ]
     },
     "metadata": {},
     "output_type": "display_data"
    }
   ],
   "source": [
    "#Use matplotlib in order to display the decomposed data in charts.\n",
    "plt.figure()\n",
    "decomposed.plot()\n",
    "plt.tight_layout()\n",
    "plt.show()"
   ]
  },
  {
   "cell_type": "markdown",
   "metadata": {},
   "source": [
    "Observation:\n",
    "According to the first chart above, it appears that the data is nonstationary.  There seems to be increases and decreases in the\n",
    "mean and standard deviations of the data throughout the time series.  I will discuss the trend, seasonal, and residual charts\n",
    "in more detail in the cells below."
   ]
  },
  {
   "cell_type": "code",
   "execution_count": 21,
   "metadata": {},
   "outputs": [
    {
     "data": {
      "image/png": "[encoded data removed]",
      "text/plain": [
       "<Figure size 640x480 with 1 Axes>"
      ]
     },
     "metadata": {},
     "output_type": "display_data"
    }
   ],
   "source": [
    "#Use matplotlib in order to create a chart that displays the seasonal data.\n",
    "plt.figure()\n",
    "decomposed.seasonal.plot()\n",
    "plt.title('Seasonality')\n",
    "plt.gca().xaxis.set_major_locator(mdates.AutoDateLocator())\n",
    "plt.gca().xaxis.set_major_formatter(mdates.DateFormatter('%Y-%m-%d'))\n",
    "plt.xticks(rotation=45)\n",
    "plt.tight_layout()\n",
    "plt.show()\n"
   ]
  },
  {
   "cell_type": "markdown",
   "metadata": {},
   "source": [
    "Observation:\n",
    "There seems to be some seasonality noted,  between the dates: 2018-03-01 to 2018-06-01 there seems to be a\n",
    "sharp decrease in the number of orders near the end of the year followed, by a sharp increase shortly after.\n",
    "There appears to be a break in seasonality from: 2018-06-01 to 2018-07-01.  From 2018-07-01 to 2018-09-01, \n",
    "there appears to be sharp decreases in number of orders followed by a sharp increase several times throughout this \n",
    "time period with no specific chronological pattern."
   ]
  },
  {
   "cell_type": "code",
   "execution_count": 22,
   "metadata": {},
   "outputs": [
    {
     "data": {
      "image/png": "[encoded data removed]",
      "text/plain": [
       "<Figure size 640x480 with 1 Axes>"
      ]
     },
     "metadata": {},
     "output_type": "display_data"
    }
   ],
   "source": [
    "#Use matplotlib in order to create a chart that displays the trend data.\n",
    "plt.figure() \n",
    "decomposed.trend.plot()\n",
    "plt.title('Trend')\n",
    "plt.gca().xaxis.set_major_locator(mdates.AutoDateLocator())\n",
    "plt.gca().xaxis.set_major_formatter(mdates.DateFormatter('%Y-%m-%d'))\n",
    "plt.xticks(rotation=45)\n",
    "plt.tight_layout()\n",
    "plt.show()\n"
   ]
  },
  {
   "cell_type": "markdown",
   "metadata": {},
   "source": [
    "Observation:\n",
    "According to the chart, there seems to be an overall positive trend in the data with a gradual,\n",
    "consistent increase in the number of orders throughout the time frame.  There are small decreases \n",
    "in the number of orders followed by a short increase shortly after."
   ]
  },
  {
   "cell_type": "code",
   "execution_count": 23,
   "metadata": {},
   "outputs": [
    {
     "data": {
      "image/png": "[encoded data removed]",
      "text/plain": [
       "<Figure size 640x480 with 1 Axes>"
      ]
     },
     "metadata": {},
     "output_type": "display_data"
    }
   ],
   "source": [
    "#Use matplotlib in order to create a chart that displays the residual data.\n",
    "plt.figure()\n",
    "decomposed.resid.plot()\n",
    "plt.title('Residual')\n",
    "plt.gca().xaxis.set_major_locator(mdates.AutoDateLocator())\n",
    "plt.gca().xaxis.set_major_formatter(mdates.DateFormatter('%Y-%m-%d'))\n",
    "plt.xticks(rotation=45)\n",
    "plt.tight_layout()\n",
    "plt.show()"
   ]
  },
  {
   "cell_type": "markdown",
   "metadata": {},
   "source": [
    "Observation: \n",
    "There is some randomness noted in the residual data.  There appears to be some major peaks in the residual data\n",
    "from: 2018-08-01 to 2018-09-01, which can indicate the presence of outliers.  The variance of the residual data\n",
    "is not constant and shows changes over time."
   ]
  },
  {
   "cell_type": "markdown",
   "metadata": {},
   "source": [
    "#### ACF and PACF Plots"
   ]
  },
  {
   "cell_type": "code",
   "execution_count": 24,
   "metadata": {},
   "outputs": [
    {
     "data": {
      "image/png": "[encoded data removed]",
      "text/plain": [
       "<Figure size 640x480 with 1 Axes>"
      ]
     },
     "metadata": {},
     "output_type": "display_data"
    }
   ],
   "source": [
    "#Use the plot_acf() method in order to plot the number of lags that affect autoregression.\n",
    "plot_acf(data['num_orders'])\n",
    "plt.title('ACF Plot')\n",
    "plt.xlabel('Lag')\n",
    "plt.ylabel('Autocorrelation')\n",
    "plt.ylim(-1, 1.3)\n",
    "plt.show()"
   ]
  },
  {
   "cell_type": "markdown",
   "metadata": {},
   "source": [
    "Observation:\n",
    "According to the ACF chart, it appears that lags 1-21 have a statistically significant autocorrelation. \n",
    "The lags have in overall negative autocorrelation noted."
   ]
  },
  {
   "cell_type": "code",
   "execution_count": 25,
   "metadata": {},
   "outputs": [
    {
     "data": {
      "image/png": "[encoded data removed]",
      "text/plain": [
       "<Figure size 640x480 with 1 Axes>"
      ]
     },
     "metadata": {},
     "output_type": "display_data"
    }
   ],
   "source": [
    "#Use the PACF Plot in order to plot the number of signigicant lags in the dataframe.\n",
    "plot_pacf(data['num_orders'])\n",
    "plt.title('PACF Plot')\n",
    "plt.xlabel('Lag')\n",
    "plt.ylabel('Autocorrelation')\n",
    "plt.ylim(-1, 1.3)\n",
    "plt.show()"
   ]
  },
  {
   "cell_type": "markdown",
   "metadata": {},
   "source": [
    "Code Result:\n",
    "It appears the after the 4th lag, the 5th lag is located in the blue confidence interval area.  This finding\n",
    "indicates that only 4 lags are necessary in the train the time series models.  The PACF chart also indicates\n",
    "that the lags have an overall negative correlation."
   ]
  },
  {
   "cell_type": "markdown",
   "metadata": {},
   "source": [
    "#### Feature Creation"
   ]
  },
  {
   "cell_type": "code",
   "execution_count": 26,
   "metadata": {},
   "outputs": [],
   "source": [
    "#Create a function named create_features() that creates timestamp features and lagged features.\n",
    "def create_features(data, max_lag):\n",
    "    data['year'] = data.index.year\n",
    "    data['month'] = data.index.month\n",
    "    data['day'] = data.index.day\n",
    "    data['dayofweek'] = data.index.dayofweek \n",
    "    data['hour'] = data.index.hour\n",
    "    for lag in range(1, max_lag + 1):\n",
    "        data['lag_{}'.format(lag)] = data['num_orders'].shift(lag)"
   ]
  },
  {
   "cell_type": "code",
   "execution_count": 27,
   "metadata": {},
   "outputs": [],
   "source": [
    "#Use the create_features() method in order to create timestamp and a total of 4 lag features in\n",
    "#the data dataframe.\n",
    "create_features(data, 4)"
   ]
  },
  {
   "cell_type": "code",
   "execution_count": 28,
   "metadata": {},
   "outputs": [
    {
     "data": {
      "text/plain": [
       "num_orders      0\n",
       "rolling_mean    0\n",
       "rolling_std     0\n",
       "year            0\n",
       "month           0\n",
       "day             0\n",
       "dayofweek       0\n",
       "hour            0\n",
       "lag_1           1\n",
       "lag_2           2\n",
       "lag_3           3\n",
       "lag_4           4\n",
       "dtype: int64"
      ]
     },
     "execution_count": 28,
     "metadata": {},
     "output_type": "execute_result"
    }
   ],
   "source": [
    "#Use the isna() and sum() methods in order to check the dataframe for missing values.\n",
    "data.isna().sum()"
   ]
  },
  {
   "cell_type": "markdown",
   "metadata": {},
   "source": [
    "Code Result:\n",
    "It appears that there are missing values in the newly created lag columns of the data dataframe.\n",
    "These missing values will be removed in the cell below."
   ]
  },
  {
   "cell_type": "code",
   "execution_count": 29,
   "metadata": {},
   "outputs": [
    {
     "data": {
      "text/plain": [
       "num_orders      0\n",
       "rolling_mean    0\n",
       "rolling_std     0\n",
       "year            0\n",
       "month           0\n",
       "day             0\n",
       "dayofweek       0\n",
       "hour            0\n",
       "lag_1           0\n",
       "lag_2           0\n",
       "lag_3           0\n",
       "lag_4           0\n",
       "dtype: int64"
      ]
     },
     "execution_count": 29,
     "metadata": {},
     "output_type": "execute_result"
    }
   ],
   "source": [
    "#Use the dropna() method in order to drop missing values fromt the data dataframe.\n",
    "data.dropna(inplace=True) \n",
    "\n",
    "#Use the isna() and sum() methods once again in order to double check for missing values.\n",
    "data.isna().sum()"
   ]
  },
  {
   "cell_type": "markdown",
   "metadata": {},
   "source": [
    "Code Result:\n",
    "There are no longer any missing values noted in the dataframe."
   ]
  },
  {
   "cell_type": "code",
   "execution_count": 30,
   "metadata": {},
   "outputs": [
    {
     "data": {
      "text/html": [
       "<div>\n",
       "<style scoped>\n",
       "    .dataframe tbody tr th:only-of-type {\n",
       "        vertical-align: middle;\n",
       "    }\n",
       "\n",
       "    .dataframe tbody tr th {\n",
       "        vertical-align: top;\n",
       "    }\n",
       "\n",
       "    .dataframe thead th {\n",
       "        text-align: right;\n",
       "    }\n",
       "</style>\n",
       "<table border=\"1\" class=\"dataframe\">\n",
       "  <thead>\n",
       "    <tr style=\"text-align: right;\">\n",
       "      <th></th>\n",
       "      <th>num_orders</th>\n",
       "      <th>rolling_mean</th>\n",
       "      <th>rolling_std</th>\n",
       "      <th>year</th>\n",
       "      <th>month</th>\n",
       "      <th>day</th>\n",
       "      <th>dayofweek</th>\n",
       "      <th>hour</th>\n",
       "      <th>lag_1</th>\n",
       "      <th>lag_2</th>\n",
       "      <th>lag_3</th>\n",
       "      <th>lag_4</th>\n",
       "    </tr>\n",
       "    <tr>\n",
       "      <th>datetime</th>\n",
       "      <th></th>\n",
       "      <th></th>\n",
       "      <th></th>\n",
       "      <th></th>\n",
       "      <th></th>\n",
       "      <th></th>\n",
       "      <th></th>\n",
       "      <th></th>\n",
       "      <th></th>\n",
       "      <th></th>\n",
       "      <th></th>\n",
       "      <th></th>\n",
       "    </tr>\n",
       "  </thead>\n",
       "  <tbody>\n",
       "    <tr>\n",
       "      <th>2018-03-02 08:00:00</th>\n",
       "      <td>46</td>\n",
       "      <td>50.500000</td>\n",
       "      <td>32.611014</td>\n",
       "      <td>2018</td>\n",
       "      <td>3</td>\n",
       "      <td>2</td>\n",
       "      <td>4</td>\n",
       "      <td>8</td>\n",
       "      <td>7.0</td>\n",
       "      <td>11.0</td>\n",
       "      <td>20.0</td>\n",
       "      <td>75.0</td>\n",
       "    </tr>\n",
       "    <tr>\n",
       "      <th>2018-03-02 10:00:00</th>\n",
       "      <td>54</td>\n",
       "      <td>50.958333</td>\n",
       "      <td>32.578306</td>\n",
       "      <td>2018</td>\n",
       "      <td>3</td>\n",
       "      <td>2</td>\n",
       "      <td>4</td>\n",
       "      <td>10</td>\n",
       "      <td>46.0</td>\n",
       "      <td>7.0</td>\n",
       "      <td>11.0</td>\n",
       "      <td>20.0</td>\n",
       "    </tr>\n",
       "    <tr>\n",
       "      <th>2018-03-02 11:00:00</th>\n",
       "      <td>91</td>\n",
       "      <td>54.500000</td>\n",
       "      <td>32.094968</td>\n",
       "      <td>2018</td>\n",
       "      <td>3</td>\n",
       "      <td>2</td>\n",
       "      <td>4</td>\n",
       "      <td>11</td>\n",
       "      <td>54.0</td>\n",
       "      <td>46.0</td>\n",
       "      <td>7.0</td>\n",
       "      <td>11.0</td>\n",
       "    </tr>\n",
       "    <tr>\n",
       "      <th>2018-03-02 12:00:00</th>\n",
       "      <td>36</td>\n",
       "      <td>55.500000</td>\n",
       "      <td>31.070747</td>\n",
       "      <td>2018</td>\n",
       "      <td>3</td>\n",
       "      <td>2</td>\n",
       "      <td>4</td>\n",
       "      <td>12</td>\n",
       "      <td>91.0</td>\n",
       "      <td>54.0</td>\n",
       "      <td>46.0</td>\n",
       "      <td>7.0</td>\n",
       "    </tr>\n",
       "    <tr>\n",
       "      <th>2018-03-02 15:00:00</th>\n",
       "      <td>59</td>\n",
       "      <td>57.333333</td>\n",
       "      <td>29.851322</td>\n",
       "      <td>2018</td>\n",
       "      <td>3</td>\n",
       "      <td>2</td>\n",
       "      <td>4</td>\n",
       "      <td>15</td>\n",
       "      <td>36.0</td>\n",
       "      <td>91.0</td>\n",
       "      <td>54.0</td>\n",
       "      <td>46.0</td>\n",
       "    </tr>\n",
       "  </tbody>\n",
       "</table>\n",
       "</div>"
      ],
      "text/plain": [
       "                     num_orders  rolling_mean  rolling_std  year  month  day  \\\n",
       "datetime                                                                       \n",
       "2018-03-02 08:00:00          46     50.500000    32.611014  2018      3    2   \n",
       "2018-03-02 10:00:00          54     50.958333    32.578306  2018      3    2   \n",
       "2018-03-02 11:00:00          91     54.500000    32.094968  2018      3    2   \n",
       "2018-03-02 12:00:00          36     55.500000    31.070747  2018      3    2   \n",
       "2018-03-02 15:00:00          59     57.333333    29.851322  2018      3    2   \n",
       "\n",
       "                     dayofweek  hour  lag_1  lag_2  lag_3  lag_4  \n",
       "datetime                                                          \n",
       "2018-03-02 08:00:00          4     8    7.0   11.0   20.0   75.0  \n",
       "2018-03-02 10:00:00          4    10   46.0    7.0   11.0   20.0  \n",
       "2018-03-02 11:00:00          4    11   54.0   46.0    7.0   11.0  \n",
       "2018-03-02 12:00:00          4    12   91.0   54.0   46.0    7.0  \n",
       "2018-03-02 15:00:00          4    15   36.0   91.0   54.0   46.0  "
      ]
     },
     "execution_count": 30,
     "metadata": {},
     "output_type": "execute_result"
    }
   ],
   "source": [
    "#Use the head() method in order to check the first five rows of the dataframe.\n",
    "data.head()"
   ]
  },
  {
   "cell_type": "markdown",
   "metadata": {},
   "source": [
    "Code Result:\n",
    "It appears that the timestamp and lag features were successfully created."
   ]
  },
  {
   "cell_type": "markdown",
   "metadata": {},
   "source": [
    "#### Stationary Test "
   ]
  },
  {
   "cell_type": "code",
   "execution_count": 31,
   "metadata": {},
   "outputs": [
    {
     "name": "stdout",
     "output_type": "stream",
     "text": [
      "P Value: 0.95\n"
     ]
    }
   ],
   "source": [
    "#Use the addfuller method in order to perform a stationary test of the data\n",
    "#dataframe.\n",
    "stationary_test_check = adfuller(data['num_orders'])\n",
    "p_value = stationary_test_check[1] \n",
    "\n",
    "#Print the P values of the stationary test.\n",
    "print(f\"P Value: {p_value:.2f}\")"
   ]
  },
  {
   "cell_type": "markdown",
   "metadata": {},
   "source": [
    "Code Result: \n",
    "The P Value of the stationary test is 0.95, which is greater than the test's maximum threshhold of 0.05.\n",
    "This result indicates that the dataset is non-stationary.  Differencing must be performed on this dataframe\n",
    "in order to make the dataframe stationary."
   ]
  },
  {
   "cell_type": "markdown",
   "metadata": {},
   "source": [
    "#### Differencing"
   ]
  },
  {
   "cell_type": "code",
   "execution_count": 32,
   "metadata": {},
   "outputs": [
    {
     "data": {
      "text/plain": [
       "num_orders      1\n",
       "rolling_mean    1\n",
       "rolling_std     1\n",
       "year            1\n",
       "month           1\n",
       "day             1\n",
       "dayofweek       1\n",
       "hour            1\n",
       "lag_1           1\n",
       "lag_2           1\n",
       "lag_3           1\n",
       "lag_4           1\n",
       "dtype: int64"
      ]
     },
     "execution_count": 32,
     "metadata": {},
     "output_type": "execute_result"
    }
   ],
   "source": [
    "#Use the shift() method in order create a dataframe that results from differencing.  Differencing\n",
    "#is done by subtracting the lagged values of the dataframe from the dataframe's original values.\n",
    "data_diff = data - data.shift() \n",
    "\n",
    "#Use the isna() and sum() methods in order to check the data_diff dataframe for missing values.\n",
    "data_diff.isna().sum()"
   ]
  },
  {
   "cell_type": "markdown",
   "metadata": {},
   "source": [
    "Code Result: \n",
    "It appears that there are missing values noted in the data_diff dataframe.  These values will be dropped in the cell\n",
    "below."
   ]
  },
  {
   "cell_type": "code",
   "execution_count": 33,
   "metadata": {},
   "outputs": [
    {
     "data": {
      "text/plain": [
       "num_orders      0\n",
       "rolling_mean    0\n",
       "rolling_std     0\n",
       "year            0\n",
       "month           0\n",
       "day             0\n",
       "dayofweek       0\n",
       "hour            0\n",
       "lag_1           0\n",
       "lag_2           0\n",
       "lag_3           0\n",
       "lag_4           0\n",
       "dtype: int64"
      ]
     },
     "execution_count": 33,
     "metadata": {},
     "output_type": "execute_result"
    }
   ],
   "source": [
    "#Use the dropna() method in order to drop missing values from the dataframe.\n",
    "data_diff.dropna(inplace=True) \n",
    "\n",
    "#Use the isna() and sum() methods in order to double check for missing values in the dataframe.\n",
    "data_diff.isna().sum() "
   ]
  },
  {
   "cell_type": "markdown",
   "metadata": {},
   "source": [
    "Code Result:\n",
    "There are no missing values noted in the data_diff dataframe.  The missing values were successfully removed."
   ]
  },
  {
   "cell_type": "code",
   "execution_count": 34,
   "metadata": {},
   "outputs": [
    {
     "data": {
      "text/plain": [
       "0"
      ]
     },
     "execution_count": 34,
     "metadata": {},
     "output_type": "execute_result"
    }
   ],
   "source": [
    "#Use the duplicated() and sum() methods in order to check for duplicate values in the data_diff dataframe.\n",
    "data_diff.duplicated().sum()"
   ]
  },
  {
   "cell_type": "markdown",
   "metadata": {},
   "source": [
    "Code Result: \n",
    "There are no duplicate values noted in the data_diff dataframe."
   ]
  },
  {
   "cell_type": "markdown",
   "metadata": {},
   "source": [
    "#### Stationary Test Recheck"
   ]
  },
  {
   "cell_type": "code",
   "execution_count": 35,
   "metadata": {},
   "outputs": [
    {
     "name": "stdout",
     "output_type": "stream",
     "text": [
      "P Value: 0.00\n"
     ]
    }
   ],
   "source": [
    "#Use the adfuller() function once again in order to recheck if the dataframe is stationary.\n",
    "stationary_test_recheck = adfuller(data_diff['num_orders'])\n",
    "p_value_2 = stationary_test_recheck[1] \n",
    "\n",
    "#Print the stationary test's P value.\n",
    "print(f\"P Value: {p_value_2:.2f}\")"
   ]
  },
  {
   "cell_type": "markdown",
   "metadata": {},
   "source": [
    "Code Result:\n",
    "The dataframe's stationary test P value after differencing is now 0.00.  The dataframe is now stationary."
   ]
  },
  {
   "cell_type": "markdown",
   "metadata": {},
   "source": [
    "#### Splitting The Data"
   ]
  },
  {
   "cell_type": "code",
   "execution_count": 36,
   "metadata": {},
   "outputs": [],
   "source": [
    "#Create a seed value for the random state.\n",
    "seed = 12345 \n",
    "\n",
    "#Use the np.random.RandomState() function in order to create a random state \n",
    "#for splitting the data and training the models.\n",
    "state = np.random.RandomState(seed)"
   ]
  },
  {
   "cell_type": "code",
   "execution_count": 37,
   "metadata": {},
   "outputs": [
    {
     "name": "stdout",
     "output_type": "stream",
     "text": [
      "2018-03-02 10:00:00 2018-08-20 01:00:00\n",
      "2018-08-20 02:00:00 2018-08-31 18:00:00\n"
     ]
    }
   ],
   "source": [
    "#Use the train_test_split() method in order to split the data into a training and test set with a\n",
    "#90:10 ratio.  Set the shuffle parameter to False in order to ensure that the data is still kept\n",
    "#in chronological order after the data splt.\n",
    "train, test = train_test_split(data_diff, shuffle=False, test_size=0.1, random_state=state) \n",
    "\n",
    "#Print the minimum and maximum values for the train and test set indices \n",
    "#in order to check if the data is split in chronological order.\n",
    "print(train.index.min(), train.index.max()) \n",
    "print(test.index.min(), test.index.max())"
   ]
  },
  {
   "cell_type": "markdown",
   "metadata": {},
   "source": [
    "Code Result:\n",
    "It appears that the data is split in chronological order because the last date at the end of the training set\n",
    "is right before the first date for the beginning of the test set."
   ]
  },
  {
   "cell_type": "code",
   "execution_count": 38,
   "metadata": {},
   "outputs": [
    {
     "data": {
      "text/plain": [
       "num_orders      0\n",
       "rolling_mean    0\n",
       "rolling_std     0\n",
       "year            0\n",
       "month           0\n",
       "day             0\n",
       "dayofweek       0\n",
       "hour            0\n",
       "lag_1           0\n",
       "lag_2           0\n",
       "lag_3           0\n",
       "lag_4           0\n",
       "dtype: int64"
      ]
     },
     "execution_count": 38,
     "metadata": {},
     "output_type": "execute_result"
    }
   ],
   "source": [
    "#Use the isna() and the sum() methods in order to check for missing values in the training set.\n",
    "train.isna().sum()"
   ]
  },
  {
   "cell_type": "markdown",
   "metadata": {},
   "source": [
    "Code Result: \n",
    "There are no missing values present in the training set."
   ]
  },
  {
   "cell_type": "code",
   "execution_count": 39,
   "metadata": {},
   "outputs": [
    {
     "data": {
      "text/plain": [
       "num_orders      0\n",
       "rolling_mean    0\n",
       "rolling_std     0\n",
       "year            0\n",
       "month           0\n",
       "day             0\n",
       "dayofweek       0\n",
       "hour            0\n",
       "lag_1           0\n",
       "lag_2           0\n",
       "lag_3           0\n",
       "lag_4           0\n",
       "dtype: int64"
      ]
     },
     "execution_count": 39,
     "metadata": {},
     "output_type": "execute_result"
    }
   ],
   "source": [
    "#Use the isna() and the sum() methods in order to check for missing values in the test set.\n",
    "test.isna().sum()"
   ]
  },
  {
   "cell_type": "markdown",
   "metadata": {},
   "source": [
    "Code Result: \n",
    "There are no missing values present in the test set."
   ]
  },
  {
   "cell_type": "code",
   "execution_count": 40,
   "metadata": {},
   "outputs": [
    {
     "data": {
      "text/plain": [
       "0"
      ]
     },
     "execution_count": 40,
     "metadata": {},
     "output_type": "execute_result"
    }
   ],
   "source": [
    "##Use the duplicated() and the sum() methods in order to check for duplicate values in the training set.\n",
    "train.duplicated().sum()"
   ]
  },
  {
   "cell_type": "markdown",
   "metadata": {},
   "source": [
    "Code Result: \n",
    "There are no missing values present in the training set."
   ]
  },
  {
   "cell_type": "code",
   "execution_count": 41,
   "metadata": {},
   "outputs": [
    {
     "data": {
      "text/plain": [
       "0"
      ]
     },
     "execution_count": 41,
     "metadata": {},
     "output_type": "execute_result"
    }
   ],
   "source": [
    "##Use the duplicated() and the sum() methods in order to check for duplicate values in the test set.\n",
    "test.duplicated().sum()"
   ]
  },
  {
   "cell_type": "markdown",
   "metadata": {},
   "source": [
    "Code Result: \n",
    "There are no missing values present in the test set."
   ]
  },
  {
   "cell_type": "code",
   "execution_count": 42,
   "metadata": {},
   "outputs": [],
   "source": [
    "#Create the target and features for the training set.\n",
    "X_train = train.drop(['num_orders'], axis=1) \n",
    "y_train = train['num_orders'] \n",
    "\n",
    "#Create the target and features for the test set.\n",
    "X_test = test.drop(['num_orders'], axis=1) \n",
    "y_test = test['num_orders']"
   ]
  },
  {
   "cell_type": "code",
   "execution_count": 43,
   "metadata": {
    "vscode": {
     "languageId": "powershell"
    }
   },
   "outputs": [
    {
     "data": {
      "text/plain": [
       "rolling_mean    0\n",
       "rolling_std     0\n",
       "year            0\n",
       "month           0\n",
       "day             0\n",
       "dayofweek       0\n",
       "hour            0\n",
       "lag_1           0\n",
       "lag_2           0\n",
       "lag_3           0\n",
       "lag_4           0\n",
       "dtype: int64"
      ]
     },
     "execution_count": 43,
     "metadata": {},
     "output_type": "execute_result"
    }
   ],
   "source": [
    "#Use the isna() and sum() methods in order to check for missing values in features of the \n",
    "#training set.\n",
    "X_train.isna().sum()"
   ]
  },
  {
   "cell_type": "markdown",
   "metadata": {},
   "source": [
    "Code Result:\n",
    "It appears that there are no missing values noted in X_train."
   ]
  },
  {
   "cell_type": "code",
   "execution_count": 44,
   "metadata": {},
   "outputs": [
    {
     "data": {
      "text/plain": [
       "rolling_mean    0\n",
       "rolling_std     0\n",
       "year            0\n",
       "month           0\n",
       "day             0\n",
       "dayofweek       0\n",
       "hour            0\n",
       "lag_1           0\n",
       "lag_2           0\n",
       "lag_3           0\n",
       "lag_4           0\n",
       "dtype: int64"
      ]
     },
     "execution_count": 44,
     "metadata": {},
     "output_type": "execute_result"
    }
   ],
   "source": [
    "#Use the isna() and sum() methods in order to check for missing values in features of the \n",
    "#test set.\n",
    "X_test.isna().sum()"
   ]
  },
  {
   "cell_type": "markdown",
   "metadata": {},
   "source": [
    "Code Result:\n",
    "It appears that there are no missing values noted in X_test."
   ]
  },
  {
   "cell_type": "code",
   "execution_count": 45,
   "metadata": {},
   "outputs": [
    {
     "data": {
      "text/plain": [
       "0"
      ]
     },
     "execution_count": 45,
     "metadata": {},
     "output_type": "execute_result"
    }
   ],
   "source": [
    "#Use the isna() and sum() methods in order to check for missing values in target of the \n",
    "#training set.\n",
    "y_train.isna().sum()"
   ]
  },
  {
   "cell_type": "markdown",
   "metadata": {},
   "source": [
    "Code Result:\n",
    "It appears that there are no missing values noted in y_train."
   ]
  },
  {
   "cell_type": "code",
   "execution_count": 46,
   "metadata": {},
   "outputs": [
    {
     "data": {
      "text/plain": [
       "0"
      ]
     },
     "execution_count": 46,
     "metadata": {},
     "output_type": "execute_result"
    }
   ],
   "source": [
    "#Use the isna() and sum() methods in order to check for missing values in target of the \n",
    "#test set.\n",
    "y_test.isna().sum()"
   ]
  },
  {
   "cell_type": "markdown",
   "metadata": {},
   "source": [
    "Code Result:\n",
    "It appears that there are no missing values noted in y_test."
   ]
  },
  {
   "cell_type": "code",
   "execution_count": 47,
   "metadata": {},
   "outputs": [
    {
     "data": {
      "text/plain": [
       "0"
      ]
     },
     "execution_count": 47,
     "metadata": {},
     "output_type": "execute_result"
    }
   ],
   "source": [
    "#Use the duplicated() and sum() methods in order to check for \n",
    "#duplicate values in the features of the training set.\n",
    "X_train.duplicated().sum()"
   ]
  },
  {
   "cell_type": "markdown",
   "metadata": {},
   "source": [
    "Code Result:\n",
    "It appears that there are no duplicate values noted in X_train."
   ]
  },
  {
   "cell_type": "code",
   "execution_count": 48,
   "metadata": {},
   "outputs": [
    {
     "data": {
      "text/plain": [
       "0"
      ]
     },
     "execution_count": 48,
     "metadata": {},
     "output_type": "execute_result"
    }
   ],
   "source": [
    "#Use the duplicated() and sum() methods in order to check for \n",
    "#duplicate values in the features of the test set.\n",
    "X_test.duplicated().sum()"
   ]
  },
  {
   "cell_type": "markdown",
   "metadata": {},
   "source": [
    "Code Result:\n",
    "Code Result:\n",
    "It appears that there are no duplicate values noted in X_test."
   ]
  },
  {
   "cell_type": "code",
   "execution_count": 49,
   "metadata": {},
   "outputs": [
    {
     "data": {
      "text/plain": [
       "90"
      ]
     },
     "execution_count": 49,
     "metadata": {},
     "output_type": "execute_result"
    }
   ],
   "source": [
    "#Use the duplicated() and sum() methods in order to check for \n",
    "#duplicate values in the target of the training set.\n",
    "y_train.duplicated().sum()"
   ]
  },
  {
   "cell_type": "markdown",
   "metadata": {},
   "source": [
    "Code Result:\n",
    "There are 90 duplicate values noted in y_train."
   ]
  },
  {
   "cell_type": "code",
   "execution_count": 50,
   "metadata": {},
   "outputs": [
    {
     "name": "stderr",
     "output_type": "stream",
     "text": [
      "/tmp/ipykernel_51/1606317253.py:3: SettingWithCopyWarning: \n",
      "A value is trying to be set on a copy of a slice from a DataFrame\n",
      "\n",
      "See the caveats in the documentation: https://pandas.pydata.org/pandas-docs/stable/user_guide/indexing.html#returning-a-view-versus-a-copy\n",
      "  y_train.drop_duplicates(inplace=True)\n"
     ]
    },
    {
     "data": {
      "text/plain": [
       "0"
      ]
     },
     "execution_count": 50,
     "metadata": {},
     "output_type": "execute_result"
    }
   ],
   "source": [
    "#Use the drop_duplicates() method in order to drop duplicate values from \n",
    "#y_train.  Set the inplace parameter to True.\n",
    "y_train.drop_duplicates(inplace=True) \n",
    "\n",
    "#Use the duplicated() and sum() methods in order to double check for \n",
    "#duplicate values in the target of the training set.\n",
    "y_train.duplicated().sum()"
   ]
  },
  {
   "cell_type": "markdown",
   "metadata": {},
   "source": [
    "Code Result:\n",
    "There are no longer any duplicate values noted in y_train. \n",
    "The duplicate values were successfully removed."
   ]
  },
  {
   "cell_type": "code",
   "execution_count": 51,
   "metadata": {},
   "outputs": [
    {
     "data": {
      "text/plain": [
       "1"
      ]
     },
     "execution_count": 51,
     "metadata": {},
     "output_type": "execute_result"
    }
   ],
   "source": [
    "#Use the duplicated() and sum() methods in order to check for \n",
    "#duplicate values in the target of the test set.\n",
    "y_test.duplicated().sum()"
   ]
  },
  {
   "cell_type": "markdown",
   "metadata": {},
   "source": [
    "Code Result:\n",
    "It appears that there is 1 duplicate value noted in y_test."
   ]
  },
  {
   "cell_type": "code",
   "execution_count": 52,
   "metadata": {},
   "outputs": [
    {
     "name": "stderr",
     "output_type": "stream",
     "text": [
      "/tmp/ipykernel_51/676580421.py:3: SettingWithCopyWarning: \n",
      "A value is trying to be set on a copy of a slice from a DataFrame\n",
      "\n",
      "See the caveats in the documentation: https://pandas.pydata.org/pandas-docs/stable/user_guide/indexing.html#returning-a-view-versus-a-copy\n",
      "  y_test.drop_duplicates(inplace=True)\n"
     ]
    },
    {
     "data": {
      "text/plain": [
       "0"
      ]
     },
     "execution_count": 52,
     "metadata": {},
     "output_type": "execute_result"
    }
   ],
   "source": [
    "#Use the drop_duplicates() method in order to drop duplicate values from \n",
    "#y_test.  Set the inplace parameter to True.\n",
    "y_test.drop_duplicates(inplace=True) \n",
    "\n",
    "#Use the duplicated() and sum() methods in order to double check for \n",
    "#duplicate values in the target of the test set.\n",
    "y_test.duplicated().sum()"
   ]
  },
  {
   "cell_type": "markdown",
   "metadata": {},
   "source": [
    "Code Result:\n",
    "There are no longer any duplicate values noted in y_train. \n",
    "The duplicate values were successfully removed."
   ]
  },
  {
   "cell_type": "markdown",
   "metadata": {},
   "source": [
    "#### Scaled Features"
   ]
  },
  {
   "cell_type": "code",
   "execution_count": 53,
   "metadata": {},
   "outputs": [],
   "source": [
    "#Create an index for the numerical features columns for scaling.\n",
    "numerical_features = ['rolling_std',\n",
    "                      'rolling_mean',\n",
    "                      'lag_1',\n",
    "                      'lag_2',\n",
    "                      'lag_3',\n",
    "                      'lag_4']"
   ]
  },
  {
   "cell_type": "code",
   "execution_count": 54,
   "metadata": {},
   "outputs": [],
   "source": [
    "#Use StandardScaler() in order to create a scaler to scale the data.\n",
    "scaler = StandardScaler() \n",
    "\n",
    "#Use the fit_transform() method in order to scale the numerical features for X_train.\n",
    "X_train_scaled_array = scaler.fit_transform(X_train[numerical_features])\n",
    "#Use the fit_transform() method in order to scale the numerical features for X_test.\n",
    "X_test_scaled_array = scaler.transform(X_test[numerical_features])"
   ]
  },
  {
   "cell_type": "code",
   "execution_count": 55,
   "metadata": {},
   "outputs": [],
   "source": [
    "#Use the pd.Dataframe() method in order to create dataframes for the numerical features for X_train and \n",
    "#X_test.\n",
    "X_train_numerical_df= pd.DataFrame(X_train_scaled_array, columns=numerical_features, index=X_train.index)\n",
    "X_test_numerical_df = pd.DataFrame(X_test_scaled_array, columns=numerical_features, index=X_test.index) \n",
    "\n",
    "#Create dataframes for the categorical features for X_train and X_test.\n",
    "X_train_categorical_df = X_train.drop(columns=numerical_features) \n",
    "X_test_categorical_df = X_test.drop(columns=numerical_features) \n",
    "\n",
    "#Use the pd.concat() method inorder to concatenate the numerical and categorical dataframes \n",
    "#for X_train and X_test with scaled features.\n",
    "X_train_scaled = pd.concat([X_train_numerical_df, X_train_categorical_df], axis=1)\n",
    "X_test_scaled = pd.concat([X_test_numerical_df, X_test_categorical_df], axis=1)"
   ]
  },
  {
   "cell_type": "code",
   "execution_count": 56,
   "metadata": {},
   "outputs": [
    {
     "data": {
      "text/plain": [
       "rolling_std     0\n",
       "rolling_mean    0\n",
       "lag_1           0\n",
       "lag_2           0\n",
       "lag_3           0\n",
       "lag_4           0\n",
       "year            0\n",
       "month           0\n",
       "day             0\n",
       "dayofweek       0\n",
       "hour            0\n",
       "dtype: int64"
      ]
     },
     "execution_count": 56,
     "metadata": {},
     "output_type": "execute_result"
    }
   ],
   "source": [
    "#Use the isna() and sum() methods in order to check for missing values in X_train_scaled.\n",
    "X_train_scaled.isna().sum()"
   ]
  },
  {
   "cell_type": "markdown",
   "metadata": {},
   "source": [
    "Code Result:\n",
    "There are no missing values noted in X_train_scaled."
   ]
  },
  {
   "cell_type": "code",
   "execution_count": 57,
   "metadata": {},
   "outputs": [
    {
     "data": {
      "text/plain": [
       "rolling_std     0\n",
       "rolling_mean    0\n",
       "lag_1           0\n",
       "lag_2           0\n",
       "lag_3           0\n",
       "lag_4           0\n",
       "year            0\n",
       "month           0\n",
       "day             0\n",
       "dayofweek       0\n",
       "hour            0\n",
       "dtype: int64"
      ]
     },
     "execution_count": 57,
     "metadata": {},
     "output_type": "execute_result"
    }
   ],
   "source": [
    "#Use the isna() and sum() methods in order to check for missing values in X_test_scaled.\n",
    "X_test_scaled.isna().sum()"
   ]
  },
  {
   "cell_type": "markdown",
   "metadata": {},
   "source": [
    "Code Result:\n",
    "There are no duplicate values noted in X_train_scaled."
   ]
  },
  {
   "cell_type": "code",
   "execution_count": 58,
   "metadata": {},
   "outputs": [
    {
     "data": {
      "text/plain": [
       "0"
      ]
     },
     "execution_count": 58,
     "metadata": {},
     "output_type": "execute_result"
    }
   ],
   "source": [
    "#Use the isna() and sum() methods in order to check for duplicate values in X_train_scaled.\n",
    "X_train_scaled.duplicated().sum()"
   ]
  },
  {
   "cell_type": "markdown",
   "metadata": {},
   "source": [
    "Code: \n",
    "It appears that there are no duplicate values noted in X_train_scaled."
   ]
  },
  {
   "cell_type": "code",
   "execution_count": 59,
   "metadata": {},
   "outputs": [
    {
     "data": {
      "text/plain": [
       "0"
      ]
     },
     "execution_count": 59,
     "metadata": {},
     "output_type": "execute_result"
    }
   ],
   "source": [
    "#Use the isna() and sum() methods in order to check for duplicate values in X_test_scaled.\n",
    "X_test_scaled.duplicated().sum()"
   ]
  },
  {
   "cell_type": "markdown",
   "metadata": {},
   "source": [
    "Code: \n",
    "It appears that there are no duplicate values noted in X_test_scaled."
   ]
  },
  {
   "cell_type": "markdown",
   "metadata": {},
   "source": [
    "#### Aligning Target and Feature Rows"
   ]
  },
  {
   "cell_type": "markdown",
   "metadata": {},
   "source": [
    "Rationale:\n",
    "In the cells below, I will concatenate the scaled features with the target data for both the training and the test set\n",
    "in order to ensure that rows of the scaled features and the target datasets are aligned correctly.  Then I will separate the\n",
    "the data again in order to create: X_train_scaled, y_train, X_test_scaled and y_test once again."
   ]
  },
  {
   "cell_type": "code",
   "execution_count": 60,
   "metadata": {},
   "outputs": [],
   "source": [
    "#Use the pd.concat() method in order to concatenate the X_train_scaled and\n",
    "#y_train dataframes.\n",
    "train_data = pd.concat([X_train_scaled, y_train], axis=1)"
   ]
  },
  {
   "cell_type": "code",
   "execution_count": 61,
   "metadata": {},
   "outputs": [
    {
     "data": {
      "text/plain": [
       "rolling_std      0\n",
       "rolling_mean     0\n",
       "lag_1            0\n",
       "lag_2            0\n",
       "lag_3            0\n",
       "lag_4            0\n",
       "year             0\n",
       "month            0\n",
       "day              0\n",
       "dayofweek        0\n",
       "hour             0\n",
       "num_orders      90\n",
       "dtype: int64"
      ]
     },
     "execution_count": 61,
     "metadata": {},
     "output_type": "execute_result"
    }
   ],
   "source": [
    "#Use the isna() and sum() methods in order to check for missing values in train_data.\n",
    "train_data.isna().sum()"
   ]
  },
  {
   "cell_type": "markdown",
   "metadata": {},
   "source": [
    "Code Result: \n",
    "There are several missing values noted in train_data.  "
   ]
  },
  {
   "cell_type": "code",
   "execution_count": 62,
   "metadata": {},
   "outputs": [
    {
     "data": {
      "text/plain": [
       "rolling_std     0\n",
       "rolling_mean    0\n",
       "lag_1           0\n",
       "lag_2           0\n",
       "lag_3           0\n",
       "lag_4           0\n",
       "year            0\n",
       "month           0\n",
       "day             0\n",
       "dayofweek       0\n",
       "hour            0\n",
       "num_orders      0\n",
       "dtype: int64"
      ]
     },
     "execution_count": 62,
     "metadata": {},
     "output_type": "execute_result"
    }
   ],
   "source": [
    "#Use the dropna() method in order to drop the missing values from train_data.\n",
    "train_data.dropna(inplace=True) \n",
    "\n",
    "#Use the isna() and sum() methods once again in order to double check for missing values in\n",
    "#train_data.\n",
    "train_data.isna().sum()"
   ]
  },
  {
   "cell_type": "markdown",
   "metadata": {},
   "source": [
    "Code Result:\n",
    "There are no missing values noted in train_data.  The missing values were successfully dropped."
   ]
  },
  {
   "cell_type": "code",
   "execution_count": 63,
   "metadata": {},
   "outputs": [],
   "source": [
    "#Create the X_train_scaled and y_train dataframes once again with the appropriate columns.\n",
    "X_train_scaled = train_data.drop(columns='num_orders') \n",
    "y_train = train_data['num_orders']"
   ]
  },
  {
   "cell_type": "code",
   "execution_count": 64,
   "metadata": {},
   "outputs": [],
   "source": [
    "#Use the pd.concat() method in order to concatenate the X_test_scaled and\n",
    "#y_test dataframes.\n",
    "test_data = pd.concat([X_test_scaled, y_test], axis=1) "
   ]
  },
  {
   "cell_type": "code",
   "execution_count": 65,
   "metadata": {},
   "outputs": [
    {
     "data": {
      "text/plain": [
       "rolling_std     0\n",
       "rolling_mean    0\n",
       "lag_1           0\n",
       "lag_2           0\n",
       "lag_3           0\n",
       "lag_4           0\n",
       "year            0\n",
       "month           0\n",
       "day             0\n",
       "dayofweek       0\n",
       "hour            0\n",
       "num_orders      1\n",
       "dtype: int64"
      ]
     },
     "execution_count": 65,
     "metadata": {},
     "output_type": "execute_result"
    }
   ],
   "source": [
    "#Use the isna() and sum() methods in order to check for missing values in test_data.\n",
    "test_data.isna().sum()"
   ]
  },
  {
   "cell_type": "markdown",
   "metadata": {},
   "source": [
    "Code Result: \n",
    "There are several missing values noted in test_data.  "
   ]
  },
  {
   "cell_type": "code",
   "execution_count": 66,
   "metadata": {},
   "outputs": [
    {
     "data": {
      "text/plain": [
       "rolling_std     0\n",
       "rolling_mean    0\n",
       "lag_1           0\n",
       "lag_2           0\n",
       "lag_3           0\n",
       "lag_4           0\n",
       "year            0\n",
       "month           0\n",
       "day             0\n",
       "dayofweek       0\n",
       "hour            0\n",
       "num_orders      0\n",
       "dtype: int64"
      ]
     },
     "execution_count": 66,
     "metadata": {},
     "output_type": "execute_result"
    }
   ],
   "source": [
    "#Use the dropna() method in order to drop the missing values from test_data. \n",
    "test_data.dropna(inplace=True) \n",
    "\n",
    "#Use the isna() and sum() methods once again in order to double check for missing values in\n",
    "#test_data.\n",
    "test_data.isna().sum()"
   ]
  },
  {
   "cell_type": "markdown",
   "metadata": {},
   "source": [
    "Code Result:\n",
    "There are no missing values noted in test_data.  The missing values were successfully dropped."
   ]
  },
  {
   "cell_type": "code",
   "execution_count": 67,
   "metadata": {},
   "outputs": [
    {
     "data": {
      "text/plain": [
       "0"
      ]
     },
     "execution_count": 67,
     "metadata": {},
     "output_type": "execute_result"
    }
   ],
   "source": [
    "#Use the duplicated() and sum() methods in order to check for duplicate values in train_data.\n",
    "train_data.duplicated().sum()"
   ]
  },
  {
   "cell_type": "markdown",
   "metadata": {},
   "source": [
    "Code Result:\n",
    "There are no duplicate values noted in train_data."
   ]
  },
  {
   "cell_type": "code",
   "execution_count": 68,
   "metadata": {},
   "outputs": [
    {
     "data": {
      "text/plain": [
       "0"
      ]
     },
     "execution_count": 68,
     "metadata": {},
     "output_type": "execute_result"
    }
   ],
   "source": [
    "#Use the duplicated() and sum() methods in order to check for duplicate values in test_data.\n",
    "test_data.duplicated().sum()"
   ]
  },
  {
   "cell_type": "markdown",
   "metadata": {},
   "source": [
    "Code Result:\n",
    "There are no duplicate values noted in test_data."
   ]
  },
  {
   "cell_type": "code",
   "execution_count": 69,
   "metadata": {},
   "outputs": [],
   "source": [
    "#Create the X_test_scaled and y_test dataframes once again with the appropriate columns.\n",
    "X_test_scaled = test_data.drop(columns='num_orders') \n",
    "y_test = test_data['num_orders']"
   ]
  },
  {
   "cell_type": "markdown",
   "metadata": {},
   "source": [
    "#### RMSE function"
   ]
  },
  {
   "cell_type": "code",
   "execution_count": 70,
   "metadata": {},
   "outputs": [],
   "source": [
    "#Create a function in order to calculate the RMSE for each model.\n",
    "def rmse(y_true, y_pred):\n",
    "    return np.sqrt(mean_squared_error(y_true, y_pred)) \n",
    "\n",
    "#Use the make_scorer() method in order to create a scorer for the models using the RMSE metric.\n",
    "#Set the greater_is_better parameter to False.\n",
    "rmse_scorer = make_scorer(rmse, greater_is_better=False)"
   ]
  },
  {
   "cell_type": "markdown",
   "metadata": {},
   "source": [
    "#### Baseline RMSE"
   ]
  },
  {
   "cell_type": "code",
   "execution_count": 71,
   "metadata": {},
   "outputs": [],
   "source": [
    "#Use the np.mean() method in order to get the mean for the training set of the target dataset.\n",
    "y_mean_pred = np.mean(y_train)\n",
    "#Use the rmse() function to calculate the rmse of between the training set of the target dataset and \n",
    "#the product of the mean for the training set of the target dataset and the length the of the\n",
    "#training set of target datset. This will be the baseline rmse for the dataset.\n",
    "baseline_rmse = rmse(y_train, [y_mean_pred] * len(y_train)) \n",
    "\n",
    "\n",
    "#Create a function that calculates the RMSE error percentage.\n",
    "def rmse_percentage(model_rmse, y_mean):\n",
    "    percentage = (model_rmse / y_mean) * 100\n",
    "    return percentage"
   ]
  },
  {
   "cell_type": "code",
   "execution_count": 72,
   "metadata": {},
   "outputs": [
    {
     "name": "stdout",
     "output_type": "stream",
     "text": [
      "Basline RMSE 94.70\n",
      "Basline RMSE Percentage: 67.85 %\n"
     ]
    }
   ],
   "source": [
    "y_mean = np.mean(data['num_orders'])\n",
    "y_mean_pred = np.mean(y_test) \n",
    "\n",
    "baseline_rmse = rmse(y_test, [y_mean_pred] * len(y_test)) \n",
    "\n",
    "print(f\"Basline RMSE {baseline_rmse:.2f}\") \n",
    "print(f\"Basline RMSE Percentage: {rmse_percentage(baseline_rmse, y_mean):.2f} %\")"
   ]
  },
  {
   "cell_type": "markdown",
   "metadata": {},
   "source": [
    "## Training"
   ]
  },
  {
   "cell_type": "markdown",
   "metadata": {},
   "source": [
    "Note To Reviewer:\n",
    "I originally intended to make predictions on all the models using the training set first without making predictions on the\n",
    "test set and saving the test set for the final selected model with the best RMSE, but the final model that I chose with the best RMSE for the \n",
    "test set prediction did not have a better RMSE on the training set prediction in comparison to the other models.  The majority of my non time series based models did worse on making predictions on the test set than on making prediction on the trainings set. So, I decided to display\n",
    "the training set and test set predictions for each and every non time series based models.  I just felt this method was more interpretable and\n",
    "made more sense.  My apologies for the inconvenience."
   ]
  },
  {
   "cell_type": "markdown",
   "metadata": {},
   "source": [
    "#### Linear Regression Model"
   ]
  },
  {
   "cell_type": "code",
   "execution_count": 73,
   "metadata": {},
   "outputs": [
    {
     "data": {
      "text/plain": [
       "LinearRegression()"
      ]
     },
     "execution_count": 73,
     "metadata": {},
     "output_type": "execute_result"
    }
   ],
   "source": [
    "#Use LinearRegression() in order to create a Linear Regression model.\n",
    "lr = LinearRegression() \n",
    "\n",
    "#Use the fit() method in order to train the Linear Regression model with the\n",
    "#scaled features and target of the training set.\n",
    "lr.fit(X_train_scaled, y_train) "
   ]
  },
  {
   "cell_type": "code",
   "execution_count": 74,
   "metadata": {},
   "outputs": [
    {
     "name": "stdout",
     "output_type": "stream",
     "text": [
      "Linear Regression Model Training Set RMSE: 32.69\n",
      "Linear Regression Model Training Set RMSE Percentage: 23.42 %\n"
     ]
    }
   ],
   "source": [
    "#Use the predict() method in order to make a prediction for the model\n",
    "#using the scaled features for the training set.\n",
    "lr_train_predicted = lr.predict(X_train_scaled) \n",
    "\n",
    "#Use the rmse() method in order to calculate the RMSE on the training set.\n",
    "lr_train_rmse = rmse(y_train, lr_train_predicted)\n",
    "print(f\"Linear Regression Model Training Set RMSE: {lr_train_rmse:.2f}\") \n",
    "print(f\"Linear Regression Model Training Set RMSE Percentage: {rmse_percentage(lr_train_rmse, y_mean):.2f} %\")"
   ]
  },
  {
   "cell_type": "code",
   "execution_count": 75,
   "metadata": {},
   "outputs": [
    {
     "name": "stdout",
     "output_type": "stream",
     "text": [
      "Linear Regression Model Test Set RMSE: 45.97\n",
      "Linear Regression Model Test Set RMSE Percentage: 32.94 %\n"
     ]
    }
   ],
   "source": [
    "#Use the predict() method in order to make a prediction for the model\n",
    "#using the scaled features for the test set.\n",
    "lr_test_predicted = lr.predict(X_test_scaled) \n",
    "\n",
    "#Use the rmse() method in order to calculate the RMSE on the test set.\n",
    "lr_test_rmse  = rmse(y_test, lr_test_predicted) \n",
    "print(f\"Linear Regression Model Test Set RMSE: {lr_test_rmse:.2f}\")\n",
    "print(f\"Linear Regression Model Test Set RMSE Percentage: {rmse_percentage(lr_test_rmse, y_mean):.2f} %\")"
   ]
  },
  {
   "cell_type": "code",
   "execution_count": 76,
   "metadata": {},
   "outputs": [
    {
     "data": {
      "image/png": "[encoded data removed]",
      "text/plain": [
       "<Figure size 640x480 with 1 Axes>"
      ]
     },
     "metadata": {},
     "output_type": "display_data"
    }
   ],
   "source": [
    "#Use matplotlib in order to create a chart displaying the predictions for the Linear Regression model.\n",
    "plt.plot(y_test.index, lr_test_predicted, color='blue', label='Linear Regression Model Prediction')\n",
    "plt.plot(y_test.index, y_test, color='red', label='y_test (Actual Values)')\n",
    "plt.gca().xaxis.set_major_formatter(mdates.DateFormatter('%Y-%m-%d')) \n",
    "plt.gca().xaxis.set_major_locator(mdates.DayLocator(interval=1))\n",
    "plt.title('Linear Regresion Model Test Set Predictions')\n",
    "plt.xlabel('Dates')\n",
    "plt.ylabel('Values')\n",
    "plt.legend()\n",
    "plt.xticks(rotation=45)\n",
    "plt.show() "
   ]
  },
  {
   "cell_type": "markdown",
   "metadata": {},
   "source": [
    "Conclusion:\n",
    "Although not perfect, the Linear Regression model's predicitons are closer to the actual value(y_test) than the other models.\n",
    "Also, because the Linear Regression Model's RMSE satisfies the project RMSE requirement (less than 48), this model would be a good\n",
    "candidate for making predictions for the company."
   ]
  },
  {
   "cell_type": "markdown",
   "metadata": {},
   "source": [
    "#### Random Forest Regressor Model"
   ]
  },
  {
   "cell_type": "code",
   "execution_count": 77,
   "metadata": {},
   "outputs": [],
   "source": [
    "#Use RandomForestRegressor() in order to create a Random Forest Regressor model.\n",
    "rfr = RandomForestRegressor(random_state=state)"
   ]
  },
  {
   "cell_type": "code",
   "execution_count": 78,
   "metadata": {},
   "outputs": [],
   "source": [
    "#Create a paramter grid for the Random Forest Regressor Model's GridSearch.\n",
    "rfr_param_grid ={\n",
    "    'n_estimators': [50, 100],\n",
    "    'max_depth': [None, 10, 20],\n",
    "    'min_samples_split': [2, 5],\n",
    "    'min_samples_leaf': [1, 2],\n",
    "    'max_features': ['sqrt']\n",
    "}"
   ]
  },
  {
   "cell_type": "code",
   "execution_count": 79,
   "metadata": {},
   "outputs": [
    {
     "name": "stdout",
     "output_type": "stream",
     "text": [
      "Fitting 3 folds for each of 24 candidates, totalling 72 fits\n",
      "[CV] END max_depth=None, max_features=sqrt, min_samples_leaf=1, min_samples_split=2, n_estimators=50; total time=   0.0s\n",
      "[CV] END max_depth=None, max_features=sqrt, min_samples_leaf=1, min_samples_split=2, n_estimators=50; total time=   0.0s\n",
      "[CV] END max_depth=None, max_features=sqrt, min_samples_leaf=1, min_samples_split=2, n_estimators=50; total time=   0.0s\n",
      "[CV] END max_depth=None, max_features=sqrt, min_samples_leaf=1, min_samples_split=2, n_estimators=100; total time=   0.1s\n",
      "[CV] END max_depth=None, max_features=sqrt, min_samples_leaf=1, min_samples_split=2, n_estimators=100; total time=   0.1s\n",
      "[CV] END max_depth=None, max_features=sqrt, min_samples_leaf=1, min_samples_split=2, n_estimators=100; total time=   0.1s\n",
      "[CV] END max_depth=None, max_features=sqrt, min_samples_leaf=1, min_samples_split=5, n_estimators=50; total time=   0.0s\n",
      "[CV] END max_depth=None, max_features=sqrt, min_samples_leaf=1, min_samples_split=5, n_estimators=50; total time=   0.0s\n",
      "[CV] END max_depth=None, max_features=sqrt, min_samples_leaf=1, min_samples_split=5, n_estimators=50; total time=   0.0s\n",
      "[CV] END max_depth=None, max_features=sqrt, min_samples_leaf=1, min_samples_split=5, n_estimators=100; total time=   0.1s\n",
      "[CV] END max_depth=None, max_features=sqrt, min_samples_leaf=1, min_samples_split=5, n_estimators=100; total time=   0.1s\n",
      "[CV] END max_depth=None, max_features=sqrt, min_samples_leaf=1, min_samples_split=5, n_estimators=100; total time=   0.1s\n",
      "[CV] END max_depth=None, max_features=sqrt, min_samples_leaf=2, min_samples_split=2, n_estimators=50; total time=   0.0s\n",
      "[CV] END max_depth=None, max_features=sqrt, min_samples_leaf=2, min_samples_split=2, n_estimators=50; total time=   0.0s\n",
      "[CV] END max_depth=None, max_features=sqrt, min_samples_leaf=2, min_samples_split=2, n_estimators=50; total time=   0.0s\n",
      "[CV] END max_depth=None, max_features=sqrt, min_samples_leaf=2, min_samples_split=2, n_estimators=100; total time=   0.1s\n",
      "[CV] END max_depth=None, max_features=sqrt, min_samples_leaf=2, min_samples_split=2, n_estimators=100; total time=   0.1s\n",
      "[CV] END max_depth=None, max_features=sqrt, min_samples_leaf=2, min_samples_split=2, n_estimators=100; total time=   0.1s\n",
      "[CV] END max_depth=None, max_features=sqrt, min_samples_leaf=2, min_samples_split=5, n_estimators=50; total time=   0.0s\n",
      "[CV] END max_depth=None, max_features=sqrt, min_samples_leaf=2, min_samples_split=5, n_estimators=50; total time=   0.0s\n",
      "[CV] END max_depth=None, max_features=sqrt, min_samples_leaf=2, min_samples_split=5, n_estimators=50; total time=   0.0s\n",
      "[CV] END max_depth=None, max_features=sqrt, min_samples_leaf=2, min_samples_split=5, n_estimators=100; total time=   0.1s\n",
      "[CV] END max_depth=None, max_features=sqrt, min_samples_leaf=2, min_samples_split=5, n_estimators=100; total time=   0.1s\n",
      "[CV] END max_depth=None, max_features=sqrt, min_samples_leaf=2, min_samples_split=5, n_estimators=100; total time=   0.1s\n",
      "[CV] END max_depth=10, max_features=sqrt, min_samples_leaf=1, min_samples_split=2, n_estimators=50; total time=   0.0s\n",
      "[CV] END max_depth=10, max_features=sqrt, min_samples_leaf=1, min_samples_split=2, n_estimators=50; total time=   0.0s\n",
      "[CV] END max_depth=10, max_features=sqrt, min_samples_leaf=1, min_samples_split=2, n_estimators=50; total time=   0.0s\n",
      "[CV] END max_depth=10, max_features=sqrt, min_samples_leaf=1, min_samples_split=2, n_estimators=100; total time=   0.1s\n",
      "[CV] END max_depth=10, max_features=sqrt, min_samples_leaf=1, min_samples_split=2, n_estimators=100; total time=   0.1s\n",
      "[CV] END max_depth=10, max_features=sqrt, min_samples_leaf=1, min_samples_split=2, n_estimators=100; total time=   0.1s\n",
      "[CV] END max_depth=10, max_features=sqrt, min_samples_leaf=1, min_samples_split=5, n_estimators=50; total time=   0.0s\n",
      "[CV] END max_depth=10, max_features=sqrt, min_samples_leaf=1, min_samples_split=5, n_estimators=50; total time=   0.0s\n",
      "[CV] END max_depth=10, max_features=sqrt, min_samples_leaf=1, min_samples_split=5, n_estimators=50; total time=   0.0s\n",
      "[CV] END max_depth=10, max_features=sqrt, min_samples_leaf=1, min_samples_split=5, n_estimators=100; total time=   0.1s\n",
      "[CV] END max_depth=10, max_features=sqrt, min_samples_leaf=1, min_samples_split=5, n_estimators=100; total time=   0.1s\n",
      "[CV] END max_depth=10, max_features=sqrt, min_samples_leaf=1, min_samples_split=5, n_estimators=100; total time=   0.1s\n",
      "[CV] END max_depth=10, max_features=sqrt, min_samples_leaf=2, min_samples_split=2, n_estimators=50; total time=   0.0s\n",
      "[CV] END max_depth=10, max_features=sqrt, min_samples_leaf=2, min_samples_split=2, n_estimators=50; total time=   0.0s\n",
      "[CV] END max_depth=10, max_features=sqrt, min_samples_leaf=2, min_samples_split=2, n_estimators=50; total time=   0.0s\n",
      "[CV] END max_depth=10, max_features=sqrt, min_samples_leaf=2, min_samples_split=2, n_estimators=100; total time=   0.1s\n",
      "[CV] END max_depth=10, max_features=sqrt, min_samples_leaf=2, min_samples_split=2, n_estimators=100; total time=   0.1s\n",
      "[CV] END max_depth=10, max_features=sqrt, min_samples_leaf=2, min_samples_split=2, n_estimators=100; total time=   0.1s\n",
      "[CV] END max_depth=10, max_features=sqrt, min_samples_leaf=2, min_samples_split=5, n_estimators=50; total time=   0.0s\n",
      "[CV] END max_depth=10, max_features=sqrt, min_samples_leaf=2, min_samples_split=5, n_estimators=50; total time=   0.0s\n",
      "[CV] END max_depth=10, max_features=sqrt, min_samples_leaf=2, min_samples_split=5, n_estimators=50; total time=   0.0s\n",
      "[CV] END max_depth=10, max_features=sqrt, min_samples_leaf=2, min_samples_split=5, n_estimators=100; total time=   0.1s\n",
      "[CV] END max_depth=10, max_features=sqrt, min_samples_leaf=2, min_samples_split=5, n_estimators=100; total time=   0.1s\n",
      "[CV] END max_depth=10, max_features=sqrt, min_samples_leaf=2, min_samples_split=5, n_estimators=100; total time=   0.1s\n",
      "[CV] END max_depth=20, max_features=sqrt, min_samples_leaf=1, min_samples_split=2, n_estimators=50; total time=   0.0s\n",
      "[CV] END max_depth=20, max_features=sqrt, min_samples_leaf=1, min_samples_split=2, n_estimators=50; total time=   0.0s\n",
      "[CV] END max_depth=20, max_features=sqrt, min_samples_leaf=1, min_samples_split=2, n_estimators=50; total time=   0.0s\n",
      "[CV] END max_depth=20, max_features=sqrt, min_samples_leaf=1, min_samples_split=2, n_estimators=100; total time=   0.1s\n",
      "[CV] END max_depth=20, max_features=sqrt, min_samples_leaf=1, min_samples_split=2, n_estimators=100; total time=   0.1s\n",
      "[CV] END max_depth=20, max_features=sqrt, min_samples_leaf=1, min_samples_split=2, n_estimators=100; total time=   0.1s\n",
      "[CV] END max_depth=20, max_features=sqrt, min_samples_leaf=1, min_samples_split=5, n_estimators=50; total time=   0.0s\n",
      "[CV] END max_depth=20, max_features=sqrt, min_samples_leaf=1, min_samples_split=5, n_estimators=50; total time=   0.0s\n",
      "[CV] END max_depth=20, max_features=sqrt, min_samples_leaf=1, min_samples_split=5, n_estimators=50; total time=   0.0s\n",
      "[CV] END max_depth=20, max_features=sqrt, min_samples_leaf=1, min_samples_split=5, n_estimators=100; total time=   0.1s\n",
      "[CV] END max_depth=20, max_features=sqrt, min_samples_leaf=1, min_samples_split=5, n_estimators=100; total time=   0.1s\n",
      "[CV] END max_depth=20, max_features=sqrt, min_samples_leaf=1, min_samples_split=5, n_estimators=100; total time=   0.1s\n",
      "[CV] END max_depth=20, max_features=sqrt, min_samples_leaf=2, min_samples_split=2, n_estimators=50; total time=   0.0s\n",
      "[CV] END max_depth=20, max_features=sqrt, min_samples_leaf=2, min_samples_split=2, n_estimators=50; total time=   0.0s\n",
      "[CV] END max_depth=20, max_features=sqrt, min_samples_leaf=2, min_samples_split=2, n_estimators=50; total time=   0.0s\n",
      "[CV] END max_depth=20, max_features=sqrt, min_samples_leaf=2, min_samples_split=2, n_estimators=100; total time=   0.1s\n",
      "[CV] END max_depth=20, max_features=sqrt, min_samples_leaf=2, min_samples_split=2, n_estimators=100; total time=   0.1s\n",
      "[CV] END max_depth=20, max_features=sqrt, min_samples_leaf=2, min_samples_split=2, n_estimators=100; total time=   0.1s\n",
      "[CV] END max_depth=20, max_features=sqrt, min_samples_leaf=2, min_samples_split=5, n_estimators=50; total time=   0.0s\n",
      "[CV] END max_depth=20, max_features=sqrt, min_samples_leaf=2, min_samples_split=5, n_estimators=50; total time=   0.0s\n",
      "[CV] END max_depth=20, max_features=sqrt, min_samples_leaf=2, min_samples_split=5, n_estimators=50; total time=   0.0s\n"
     ]
    },
    {
     "name": "stdout",
     "output_type": "stream",
     "text": [
      "[CV] END max_depth=20, max_features=sqrt, min_samples_leaf=2, min_samples_split=5, n_estimators=100; total time=   0.1s\n",
      "[CV] END max_depth=20, max_features=sqrt, min_samples_leaf=2, min_samples_split=5, n_estimators=100; total time=   0.1s\n",
      "[CV] END max_depth=20, max_features=sqrt, min_samples_leaf=2, min_samples_split=5, n_estimators=100; total time=   0.1s\n"
     ]
    },
    {
     "data": {
      "text/plain": [
       "GridSearchCV(cv=3,\n",
       "             estimator=RandomForestRegressor(random_state=RandomState(MT19937) at 0x7F3A54964D40),\n",
       "             n_jobs=-1,\n",
       "             param_grid={'max_depth': [None, 10, 20], 'max_features': ['sqrt'],\n",
       "                         'min_samples_leaf': [1, 2],\n",
       "                         'min_samples_split': [2, 5],\n",
       "                         'n_estimators': [50, 100]},\n",
       "             scoring=make_scorer(rmse, greater_is_better=False), verbose=2)"
      ]
     },
     "execution_count": 79,
     "metadata": {},
     "output_type": "execute_result"
    }
   ],
   "source": [
    "#Create a GridSearch model for the Random Forest Regressor model using GridSearchCV().\n",
    "rfr_gsearch = GridSearchCV(estimator=rfr, \n",
    "                           param_grid=rfr_param_grid,\n",
    "                           cv=3,\n",
    "                           n_jobs=-1,\n",
    "                           verbose=2,\n",
    "                           scoring=rmse_scorer) \n",
    "\n",
    "#Use the fit() method in order to train the RandomForestRegressor() model with the scaled features and\n",
    "#the target of the training set.\n",
    "rfr_gsearch.fit(X_train_scaled, y_train)"
   ]
  },
  {
   "cell_type": "code",
   "execution_count": 80,
   "metadata": {},
   "outputs": [
    {
     "name": "stdout",
     "output_type": "stream",
     "text": [
      "Random Forest Regressor Model Best Score: -48.25\n",
      "Random Forest Regressor Model Best Hyperparameters: \n",
      "{'max_depth': 10, 'max_features': 'sqrt', 'min_samples_leaf': 2, 'min_samples_split': 5, 'n_estimators': 100}\n"
     ]
    }
   ],
   "source": [
    "#Use the best_score_ method in order to get the best score for the model. \n",
    "print(f\"Random Forest Regressor Model Best Score: {rfr_gsearch.best_score_:.2f}\") \n",
    "#Use the best_params_ method in order to get the best score for the model.\n",
    "print(f\"Random Forest Regressor Model Best Hyperparameters: \\n{rfr_gsearch.best_params_}\")"
   ]
  },
  {
   "cell_type": "code",
   "execution_count": 81,
   "metadata": {},
   "outputs": [
    {
     "data": {
      "text/plain": [
       "RandomForestRegressor(max_features='sqrt', min_samples_leaf=2,\n",
       "                      min_samples_split=5, n_estimators=500)"
      ]
     },
     "execution_count": 81,
     "metadata": {},
     "output_type": "execute_result"
    }
   ],
   "source": [
    "#Recreate the RandomForestRegressor model with tuned hyperparameters.\n",
    "rfr = RandomForestRegressor(max_depth=None,\n",
    "                            max_features='sqrt',\n",
    "                            min_samples_leaf=2,\n",
    "                            min_samples_split=5,\n",
    "                            n_estimators=500) \n",
    "\n",
    "#Use the fit() method in order to fit the Random Forest Regressor model with the scaled features and target\n",
    "#of the training set.\n",
    "rfr.fit(X_train_scaled, y_train)"
   ]
  },
  {
   "cell_type": "code",
   "execution_count": 82,
   "metadata": {},
   "outputs": [
    {
     "name": "stdout",
     "output_type": "stream",
     "text": [
      "Random Forest Regressor Training Set RMSE: 26.57\n",
      "Random Forest Regressor Model Training Set RMSE Error Percentage: 19.04 %\n"
     ]
    }
   ],
   "source": [
    "#Use the predict() method in order to make a prediction for the model\n",
    "#using the scaled features for the training set.\n",
    "rfr_training_predicted = rfr.predict(X_train_scaled) \n",
    "\n",
    "#Use the rmse() method in order to calculate the RMSE on the training set.\n",
    "rfr_train_rmse = rmse(y_train, rfr_training_predicted) \n",
    "print(f\"Random Forest Regressor Training Set RMSE: {rfr_train_rmse:.2f}\") \n",
    "print(f\"Random Forest Regressor Model Training Set RMSE Error Percentage: {rmse_percentage(rfr_train_rmse, y_mean):.2f} %\")"
   ]
  },
  {
   "cell_type": "code",
   "execution_count": 83,
   "metadata": {},
   "outputs": [
    {
     "name": "stdout",
     "output_type": "stream",
     "text": [
      "Random Forest Regressor Model Test Set RMSE: 70.67\n",
      "Random Forest Regressor Model Test Set RMSE Error Percentage: 50.63 %\n"
     ]
    }
   ],
   "source": [
    "#Use the predict() method in order to make a prediction for the model\n",
    "#using the scaled features for the test set.\n",
    "rfr_test_predicted = rfr.predict(X_test_scaled) \n",
    "\n",
    "#Use the rmse() method in order to calculate the RMSE on the test set.\n",
    "rfr_test_rmse  = rmse(y_test, rfr_test_predicted) \n",
    "print(f\"Random Forest Regressor Model Test Set RMSE: {rfr_test_rmse:.2f}\") \n",
    "print(f\"Random Forest Regressor Model Test Set RMSE Error Percentage: {rmse_percentage(rfr_test_rmse, y_mean):.2f} %\")"
   ]
  },
  {
   "cell_type": "code",
   "execution_count": 84,
   "metadata": {},
   "outputs": [
    {
     "data": {
      "image/png": "[encoded data removed]",
      "text/plain": [
       "<Figure size 640x480 with 1 Axes>"
      ]
     },
     "metadata": {},
     "output_type": "display_data"
    }
   ],
   "source": [
    "#Use matplotlib in order to create a chart displaying the predictions for the Light GBM model.\n",
    "plt.plot(y_test.index, rfr_test_predicted, color='blue', label='Random Forest Regressor Model Prediction')\n",
    "plt.plot(y_test.index, y_test, color='red', label='y_test(Actual Values)')\n",
    "plt.gca().xaxis.set_major_formatter(mdates.DateFormatter('%Y-%m-%d')) \n",
    "plt.gca().xaxis.set_major_locator(mdates.DayLocator(interval=1))\n",
    "plt.title('Random Forest Regresor Model Test Set Predictions')\n",
    "plt.xlabel('Dates')\n",
    "plt.ylabel('Values')\n",
    "plt.legend()\n",
    "plt.xticks(rotation=45)\n",
    "plt.show() "
   ]
  },
  {
   "cell_type": "markdown",
   "metadata": {},
   "source": [
    "#### Light GBM Regressor Model"
   ]
  },
  {
   "cell_type": "code",
   "execution_count": 85,
   "metadata": {},
   "outputs": [],
   "source": [
    "#Use LGBMRegressor() in order to create a Light GBM Regressor model.\n",
    "lgb = LGBMRegressor(random_state=state)"
   ]
  },
  {
   "cell_type": "code",
   "execution_count": 86,
   "metadata": {},
   "outputs": [],
   "source": [
    "#Create a parameter grid for the Light GBM model.\n",
    "lgb_param_grid = {\n",
    "    'num_leaves': [31],\n",
    "    'learning_rate': [0.1],\n",
    "    'n_estimators': [100, 200]\n",
    "}"
   ]
  },
  {
   "cell_type": "code",
   "execution_count": 87,
   "metadata": {},
   "outputs": [
    {
     "name": "stdout",
     "output_type": "stream",
     "text": [
      "Fitting 3 folds for each of 2 candidates, totalling 6 fits\n",
      "[CV] END .learning_rate=0.1, n_estimators=100, num_leaves=31; total time=   0.0s\n",
      "[CV] END .learning_rate=0.1, n_estimators=100, num_leaves=31; total time=   0.1s\n",
      "[CV] END .learning_rate=0.1, n_estimators=100, num_leaves=31; total time=   0.0s\n",
      "[CV] END .learning_rate=0.1, n_estimators=200, num_leaves=31; total time=   0.0s\n",
      "[CV] END .learning_rate=0.1, n_estimators=200, num_leaves=31; total time=   0.1s\n",
      "[CV] END .learning_rate=0.1, n_estimators=200, num_leaves=31; total time=   0.1s\n"
     ]
    },
    {
     "data": {
      "text/plain": [
       "GridSearchCV(cv=3,\n",
       "             estimator=LGBMRegressor(random_state=RandomState(MT19937) at 0x7F3A54964D40),\n",
       "             n_jobs=-1,\n",
       "             param_grid={'learning_rate': [0.1], 'n_estimators': [100, 200],\n",
       "                         'num_leaves': [31]},\n",
       "             scoring=make_scorer(rmse, greater_is_better=False), verbose=2)"
      ]
     },
     "execution_count": 87,
     "metadata": {},
     "output_type": "execute_result"
    }
   ],
   "source": [
    "#Create a GridSearch for the LightGBM Model using GridSearchCV()\n",
    "lgb_gsearch = GridSearchCV(estimator=lgb,\n",
    "                           param_grid=lgb_param_grid,\n",
    "                           scoring=rmse_scorer,\n",
    "                           cv=3,\n",
    "                           verbose=2,\n",
    "                           n_jobs=-1) \n",
    "\n",
    "#Use the fit() method in order to train the GridSearch model with the training sets of the \n",
    "#scaled features dataset and target datasets.\n",
    "lgb_gsearch.fit(X_train_scaled, y_train)"
   ]
  },
  {
   "cell_type": "code",
   "execution_count": 88,
   "metadata": {},
   "outputs": [
    {
     "name": "stdout",
     "output_type": "stream",
     "text": [
      "LightGBM Model Best Score: -47.12\n",
      "LightGBM Model Best Hyperparameters: {'learning_rate': 0.1, 'n_estimators': 100, 'num_leaves': 31}\n"
     ]
    }
   ],
   "source": [
    "#Use the best_score_ method in order to print the model's best score.\n",
    "print(f\"LightGBM Model Best Score: {lgb_gsearch.best_score_:.2f}\")\n",
    "#Use the best_params_ method in order to print the model's best hyperparameters.\n",
    "print(f\"LightGBM Model Best Hyperparameters: {lgb_gsearch.best_params_}\")"
   ]
  },
  {
   "cell_type": "code",
   "execution_count": 89,
   "metadata": {},
   "outputs": [
    {
     "data": {
      "text/plain": [
       "LGBMRegressor(learing_rate=0.1,\n",
       "              random_state=RandomState(MT19937) at 0x7F3A54964D40)"
      ]
     },
     "execution_count": 89,
     "metadata": {},
     "output_type": "execute_result"
    }
   ],
   "source": [
    "#Recreate the Light GBM Regressor model with tuned hyperparameters.\n",
    "lgb = LGBMRegressor(learing_rate=0.1,\n",
    "                    n_estimators=100,\n",
    "                    num_leaves=31,\n",
    "                    random_state=state) \n",
    "\n",
    "#Use the fit() method in order to train the Light GBM Regressor model\n",
    "#with the scaled features and target of the training set.\n",
    "lgb.fit(X_train_scaled, y_train)"
   ]
  },
  {
   "cell_type": "code",
   "execution_count": 90,
   "metadata": {},
   "outputs": [
    {
     "name": "stdout",
     "output_type": "stream",
     "text": [
      "Light GBM Regressor Model Training Set RMSE: 24.01\n",
      "Light GBM Regressor Model Training Set RMSE Error Percentage: 17.20 %\n"
     ]
    }
   ],
   "source": [
    "#Use the predict() method in order to make a prediction on the training set for the Light GBM model\n",
    "lgb_train_predicted = lgb.predict(X_train_scaled) \n",
    "\n",
    "#Use the rmse() method to calculate the model's RMSE on the training set.\n",
    "lgb_train_rmse = rmse(y_train, lgb_train_predicted)\n",
    "print(f\"Light GBM Regressor Model Training Set RMSE: {lgb_train_rmse:.2f}\") \n",
    "print(f\"Light GBM Regressor Model Training Set RMSE Error Percentage: {rmse_percentage(lgb_train_rmse, y_mean):.2f} %\")"
   ]
  },
  {
   "cell_type": "code",
   "execution_count": 91,
   "metadata": {},
   "outputs": [
    {
     "name": "stdout",
     "output_type": "stream",
     "text": [
      "Light GBM Model Test Set RMSE: 67.55\n",
      "Light GBM Regressor Model Test Set RMSE Error Percentage: 48.40 %\n"
     ]
    }
   ],
   "source": [
    "#Use the predict() method in order to make a prediction for the model\n",
    "#using the scaled features for the test set.\n",
    "lgb_test_predicted = lgb.predict(X_test_scaled) \n",
    "\n",
    "#Use the rmse() method in order to calculate the RMSE on the test set.\n",
    "lgb_test_rmse  = rmse(y_test, lgb_test_predicted) \n",
    "print(f\"Light GBM Model Test Set RMSE: {lgb_test_rmse:.2f}\")\n",
    "print(f\"Light GBM Regressor Model Test Set RMSE Error Percentage: {rmse_percentage(lgb_test_rmse, y_mean):.2f} %\")"
   ]
  },
  {
   "cell_type": "code",
   "execution_count": 92,
   "metadata": {},
   "outputs": [
    {
     "data": {
      "image/png": "[encoded data removed]",
      "text/plain": [
       "<Figure size 640x480 with 1 Axes>"
      ]
     },
     "metadata": {},
     "output_type": "display_data"
    }
   ],
   "source": [
    "#Use matplotlib in order to create a chart displaying the predictions for the Random Forest Regressor model.\n",
    "plt.plot(y_test.index, lgb_test_predicted, color='blue', label='Light GBM Model Prediction')\n",
    "plt.plot(y_test.index, y_test, color='red', label='y_test (Acutal Values)')\n",
    "plt.gca().xaxis.set_major_formatter(mdates.DateFormatter('%Y-%m-%d')) \n",
    "plt.gca().xaxis.set_major_locator(mdates.DayLocator(interval=1))\n",
    "plt.title('Light GBM Model Test Set Predictions')\n",
    "plt.xlabel('Dates')\n",
    "plt.ylabel('Values')\n",
    "plt.legend()\n",
    "plt.xticks(rotation=45)\n",
    "plt.show() "
   ]
  },
  {
   "cell_type": "markdown",
   "metadata": {},
   "source": [
    "Code Result:\n",
    "The Light GBM model's predictions are somewhat close to the actual values(y_test), but the model failed to meet\n",
    "the required RMSE for the project (48 or less)."
   ]
  },
  {
   "cell_type": "markdown",
   "metadata": {},
   "source": [
    "#### Start and End Values"
   ]
  },
  {
   "cell_type": "code",
   "execution_count": 93,
   "metadata": {},
   "outputs": [],
   "source": [
    "#Create start and end values for the training set predictions\n",
    "start_value = len(y_train)\n",
    "end_value = start_value + len(y_test) - 1"
   ]
  },
  {
   "cell_type": "markdown",
   "metadata": {},
   "source": [
    "####  Seasonal auto_arima()"
   ]
  },
  {
   "cell_type": "code",
   "execution_count": 94,
   "metadata": {},
   "outputs": [
    {
     "name": "stderr",
     "output_type": "stream",
     "text": [
      "/opt/conda/envs/python3/lib/python3.9/site-packages/statsmodels/tsa/statespace/sarimax.py:978: UserWarning: Non-invertible starting MA parameters found. Using zeros as starting parameters.\n",
      "  warn('Non-invertible starting MA parameters found.'\n",
      "/opt/conda/envs/python3/lib/python3.9/site-packages/statsmodels/base/model.py:604: ConvergenceWarning: Maximum Likelihood optimization failed to converge. Check mle_retvals\n",
      "  warnings.warn(\"Maximum Likelihood optimization failed to \"\n",
      "/opt/conda/envs/python3/lib/python3.9/site-packages/statsmodels/base/model.py:604: ConvergenceWarning: Maximum Likelihood optimization failed to converge. Check mle_retvals\n",
      "  warnings.warn(\"Maximum Likelihood optimization failed to \"\n",
      "/opt/conda/envs/python3/lib/python3.9/site-packages/statsmodels/base/model.py:604: ConvergenceWarning: Maximum Likelihood optimization failed to converge. Check mle_retvals\n",
      "  warnings.warn(\"Maximum Likelihood optimization failed to \"\n",
      "/opt/conda/envs/python3/lib/python3.9/site-packages/statsmodels/base/model.py:604: ConvergenceWarning: Maximum Likelihood optimization failed to converge. Check mle_retvals\n",
      "  warnings.warn(\"Maximum Likelihood optimization failed to \"\n",
      "/opt/conda/envs/python3/lib/python3.9/site-packages/statsmodels/base/model.py:604: ConvergenceWarning: Maximum Likelihood optimization failed to converge. Check mle_retvals\n",
      "  warnings.warn(\"Maximum Likelihood optimization failed to \"\n",
      "/opt/conda/envs/python3/lib/python3.9/site-packages/statsmodels/base/model.py:604: ConvergenceWarning: Maximum Likelihood optimization failed to converge. Check mle_retvals\n",
      "  warnings.warn(\"Maximum Likelihood optimization failed to \"\n",
      "/opt/conda/envs/python3/lib/python3.9/site-packages/statsmodels/tsa/statespace/sarimax.py:966: UserWarning: Non-stationary starting autoregressive parameters found. Using zeros as starting parameters.\n",
      "  warn('Non-stationary starting autoregressive parameters'\n",
      "/opt/conda/envs/python3/lib/python3.9/site-packages/statsmodels/base/model.py:604: ConvergenceWarning: Maximum Likelihood optimization failed to converge. Check mle_retvals\n",
      "  warnings.warn(\"Maximum Likelihood optimization failed to \"\n",
      "/opt/conda/envs/python3/lib/python3.9/site-packages/statsmodels/base/model.py:604: ConvergenceWarning: Maximum Likelihood optimization failed to converge. Check mle_retvals\n",
      "  warnings.warn(\"Maximum Likelihood optimization failed to \"\n",
      "/opt/conda/envs/python3/lib/python3.9/site-packages/statsmodels/base/model.py:604: ConvergenceWarning: Maximum Likelihood optimization failed to converge. Check mle_retvals\n",
      "  warnings.warn(\"Maximum Likelihood optimization failed to \"\n",
      "/opt/conda/envs/python3/lib/python3.9/site-packages/statsmodels/base/model.py:604: ConvergenceWarning: Maximum Likelihood optimization failed to converge. Check mle_retvals\n",
      "  warnings.warn(\"Maximum Likelihood optimization failed to \"\n",
      "/opt/conda/envs/python3/lib/python3.9/site-packages/statsmodels/base/model.py:604: ConvergenceWarning: Maximum Likelihood optimization failed to converge. Check mle_retvals\n",
      "  warnings.warn(\"Maximum Likelihood optimization failed to \"\n",
      "/opt/conda/envs/python3/lib/python3.9/site-packages/statsmodels/base/model.py:604: ConvergenceWarning: Maximum Likelihood optimization failed to converge. Check mle_retvals\n",
      "  warnings.warn(\"Maximum Likelihood optimization failed to \"\n",
      "/opt/conda/envs/python3/lib/python3.9/site-packages/statsmodels/base/model.py:604: ConvergenceWarning: Maximum Likelihood optimization failed to converge. Check mle_retvals\n",
      "  warnings.warn(\"Maximum Likelihood optimization failed to \"\n",
      "/opt/conda/envs/python3/lib/python3.9/site-packages/statsmodels/base/model.py:604: ConvergenceWarning: Maximum Likelihood optimization failed to converge. Check mle_retvals\n",
      "  warnings.warn(\"Maximum Likelihood optimization failed to \"\n",
      "/opt/conda/envs/python3/lib/python3.9/site-packages/statsmodels/base/model.py:604: ConvergenceWarning: Maximum Likelihood optimization failed to converge. Check mle_retvals\n",
      "  warnings.warn(\"Maximum Likelihood optimization failed to \"\n",
      "/opt/conda/envs/python3/lib/python3.9/site-packages/statsmodels/base/model.py:604: ConvergenceWarning: Maximum Likelihood optimization failed to converge. Check mle_retvals\n",
      "  warnings.warn(\"Maximum Likelihood optimization failed to \"\n",
      "/opt/conda/envs/python3/lib/python3.9/site-packages/statsmodels/base/model.py:604: ConvergenceWarning: Maximum Likelihood optimization failed to converge. Check mle_retvals\n",
      "  warnings.warn(\"Maximum Likelihood optimization failed to \"\n",
      "/opt/conda/envs/python3/lib/python3.9/site-packages/statsmodels/base/model.py:604: ConvergenceWarning: Maximum Likelihood optimization failed to converge. Check mle_retvals\n",
      "  warnings.warn(\"Maximum Likelihood optimization failed to \"\n",
      "/opt/conda/envs/python3/lib/python3.9/site-packages/statsmodels/base/model.py:604: ConvergenceWarning: Maximum Likelihood optimization failed to converge. Check mle_retvals\n",
      "  warnings.warn(\"Maximum Likelihood optimization failed to \"\n",
      "/opt/conda/envs/python3/lib/python3.9/site-packages/statsmodels/base/model.py:604: ConvergenceWarning: Maximum Likelihood optimization failed to converge. Check mle_retvals\n",
      "  warnings.warn(\"Maximum Likelihood optimization failed to \"\n",
      "/opt/conda/envs/python3/lib/python3.9/site-packages/statsmodels/base/model.py:604: ConvergenceWarning: Maximum Likelihood optimization failed to converge. Check mle_retvals\n",
      "  warnings.warn(\"Maximum Likelihood optimization failed to \"\n",
      "/opt/conda/envs/python3/lib/python3.9/site-packages/statsmodels/base/model.py:604: ConvergenceWarning: Maximum Likelihood optimization failed to converge. Check mle_retvals\n",
      "  warnings.warn(\"Maximum Likelihood optimization failed to \"\n",
      "/opt/conda/envs/python3/lib/python3.9/site-packages/statsmodels/base/model.py:604: ConvergenceWarning: Maximum Likelihood optimization failed to converge. Check mle_retvals\n",
      "  warnings.warn(\"Maximum Likelihood optimization failed to \"\n",
      "/opt/conda/envs/python3/lib/python3.9/site-packages/statsmodels/base/model.py:604: ConvergenceWarning: Maximum Likelihood optimization failed to converge. Check mle_retvals\n",
      "  warnings.warn(\"Maximum Likelihood optimization failed to \"\n",
      "/opt/conda/envs/python3/lib/python3.9/site-packages/statsmodels/base/model.py:604: ConvergenceWarning: Maximum Likelihood optimization failed to converge. Check mle_retvals\n",
      "  warnings.warn(\"Maximum Likelihood optimization failed to \"\n",
      "/opt/conda/envs/python3/lib/python3.9/site-packages/statsmodels/base/model.py:604: ConvergenceWarning: Maximum Likelihood optimization failed to converge. Check mle_retvals\n",
      "  warnings.warn(\"Maximum Likelihood optimization failed to \"\n"
     ]
    }
   ],
   "source": [
    "#Use the arma_order_select_ic() method in order to determine the autoregressive model order.\n",
    "arma_lags = arma_order_select_ic(y_train, max_ar=6, max_ma=6)"
   ]
  },
  {
   "cell_type": "code",
   "execution_count": 95,
   "metadata": {},
   "outputs": [
    {
     "data": {
      "text/plain": [
       "(2, 0)"
      ]
     },
     "execution_count": 95,
     "metadata": {},
     "output_type": "execute_result"
    }
   ],
   "source": [
    "#Use bic_min_order in order to print the AR order.\n",
    "arma_lags.bic_min_order"
   ]
  },
  {
   "cell_type": "markdown",
   "metadata": {},
   "source": [
    "Code Result:\n",
    "According to the tuple generated from bic_min_order.  The first term \"2\" indicates the maximum number of lags needed for\n",
    "the autoregressive part of the model.  The second term \"0\" indicates the maximum number of lags needed moving average part\n",
    "of the model."
   ]
  },
  {
   "cell_type": "markdown",
   "metadata": {},
   "source": [
    "#### AR Model"
   ]
  },
  {
   "cell_type": "code",
   "execution_count": 96,
   "metadata": {},
   "outputs": [
    {
     "name": "stdout",
     "output_type": "stream",
     "text": [
      "Lags that define AR order:[1, 2]\n"
     ]
    },
    {
     "name": "stderr",
     "output_type": "stream",
     "text": [
      "/opt/conda/envs/python3/lib/python3.9/site-packages/statsmodels/tsa/base/tsa_model.py:471: ValueWarning: A date index has been provided, but it has no associated frequency information and so will be ignored when e.g. forecasting.\n",
      "  self._init_dates(dates, freq)\n",
      "/opt/conda/envs/python3/lib/python3.9/site-packages/statsmodels/tsa/base/tsa_model.py:471: ValueWarning: A date index has been provided, but it has no associated frequency information and so will be ignored when e.g. forecasting.\n",
      "  self._init_dates(dates, freq)\n"
     ]
    }
   ],
   "source": [
    "#Use the ar_select_order_method() in order to determine the lags that define the AR order.\n",
    "mod = ar_select_order(endog=y_train, maxlag=2)\n",
    "ar_order = mod.ar_lags \n",
    "print(f\"Lags that define AR order:{ar_order}\")"
   ]
  },
  {
   "cell_type": "code",
   "execution_count": 97,
   "metadata": {},
   "outputs": [
    {
     "name": "stderr",
     "output_type": "stream",
     "text": [
      "/opt/conda/envs/python3/lib/python3.9/site-packages/statsmodels/tsa/base/tsa_model.py:471: ValueWarning: A date index has been provided, but it has no associated frequency information and so will be ignored when e.g. forecasting.\n",
      "  self._init_dates(dates, freq)\n"
     ]
    }
   ],
   "source": [
    "#Use the AutoReg() method to create an Auto Regression model. Use the ar_order variable to define the lags.\n",
    "#Use the target of the training set as input to train the model.\n",
    "ar_model = AutoReg(y_train, lags=ar_order) "
   ]
  },
  {
   "cell_type": "code",
   "execution_count": 98,
   "metadata": {},
   "outputs": [
    {
     "name": "stderr",
     "output_type": "stream",
     "text": [
      "/opt/conda/envs/python3/lib/python3.9/site-packages/statsmodels/tsa/base/tsa_model.py:834: ValueWarning: No supported index is available. Prediction results will be given with an integer index beginning at `start`.\n",
      "  return get_prediction_index(\n",
      "/opt/conda/envs/python3/lib/python3.9/site-packages/statsmodels/tsa/deterministic.py:302: UserWarning: Only PeriodIndexes, DatetimeIndexes with a frequency set, RangesIndexes, and Index with a unit increment support extending. The index is set will contain the position relative to the data length.\n",
      "  fcast_index = self._extend_index(index, steps, forecast_index)\n"
     ]
    }
   ],
   "source": [
    "#Use the fit() method in order to train the model.\n",
    "ar_result = ar_model.fit()\n",
    "#Use the predict() method in order to make a prediction for the model.\n",
    "ar_pred = ar_result.predict(start=start_value, end=end_value, dynamic=False)"
   ]
  },
  {
   "cell_type": "code",
   "execution_count": 99,
   "metadata": {},
   "outputs": [
    {
     "name": "stdout",
     "output_type": "stream",
     "text": [
      "AutoRegression (AR) Model RMSE: 95.24\n",
      "AutoRegression (AR) Model RMSE Error Percentage: 68.24 %\n"
     ]
    }
   ],
   "source": [
    "#Use the rmse() method in order to calculate the RMSE for the AR Model.\n",
    "ar_rmse = rmse(y_test, ar_pred)\n",
    "print(f\"AutoRegression (AR) Model RMSE: {ar_rmse:.2f}\") \n",
    "print(f\"AutoRegression (AR) Model RMSE Error Percentage: {rmse_percentage(ar_rmse, y_mean):.2f} %\")"
   ]
  },
  {
   "cell_type": "code",
   "execution_count": 100,
   "metadata": {},
   "outputs": [
    {
     "data": {
      "image/png": "[encoded data removed]",
      "text/plain": [
       "<Figure size 640x480 with 1 Axes>"
      ]
     },
     "metadata": {},
     "output_type": "display_data"
    }
   ],
   "source": [
    "#Use matplotlib in order to create a chart displaying the predictions for the AutoRegression model.\n",
    "plt.plot(y_test.index, ar_pred, color='blue', label='AutoRegression Prediction')\n",
    "plt.plot(y_test.index, y_test, color='red', label='y_test (Actual Values)')\n",
    "plt.gca().xaxis.set_major_formatter(mdates.DateFormatter('%Y-%m-%d')) \n",
    "plt.gca().xaxis.set_major_locator(mdates.DayLocator(interval=1))\n",
    "plt.title('AutoRegression Model Test Set Predictions')\n",
    "plt.xlabel('Dates')\n",
    "plt.ylabel('Values')\n",
    "plt.legend()\n",
    "plt.xticks(rotation=45)\n",
    "plt.show() "
   ]
  },
  {
   "cell_type": "markdown",
   "metadata": {},
   "source": [
    "Observation:\n",
    "The ARMA model's predicted values failed to make accurate predictions of the actual values(y_test)."
   ]
  },
  {
   "cell_type": "markdown",
   "metadata": {},
   "source": [
    "#### Non-seasonal auto_arima()"
   ]
  },
  {
   "cell_type": "code",
   "execution_count": 101,
   "metadata": {},
   "outputs": [
    {
     "name": "stderr",
     "output_type": "stream",
     "text": [
      "/opt/conda/envs/python3/lib/python3.9/site-packages/pmdarima/arima/_validation.py:62: UserWarning: m (12) set for non-seasonal fit. Setting to 0\n",
      "  warnings.warn(\"m (%i) set for non-seasonal fit. Setting to 0\" % m)\n"
     ]
    }
   ],
   "source": [
    "#Use the auto_arima() function in order to determine the order for an ARIMA/ARMA model.\n",
    "#Set the seasonal hyperparameter to False.\n",
    "pmd_model = auto_arima(train['num_orders'], seasonal=False, m=12, scoring=rmse_scorer)"
   ]
  },
  {
   "cell_type": "code",
   "execution_count": 102,
   "metadata": {},
   "outputs": [
    {
     "name": "stdout",
     "output_type": "stream",
     "text": [
      "p= 1\n",
      "d= 0\n",
      "q=3\n"
     ]
    }
   ],
   "source": [
    "#Print the p(autoregressive component), d(differncing term), and q(moving average component)\n",
    "#of the ARMA model.\n",
    "print(f\"p= {pmd_model.order[0]}\")\n",
    "print(f\"d= {pmd_model.order[1]}\")\n",
    "print(f\"q={pmd_model.order[2]}\")"
   ]
  },
  {
   "cell_type": "markdown",
   "metadata": {},
   "source": [
    "#### ARMA Model"
   ]
  },
  {
   "cell_type": "markdown",
   "metadata": {},
   "source": [
    "Rationale: The model that I created is considered an ARMA model and not an ARIMA model\n",
    "because the differencing term is 0, which would indicate no model differncing required for the current dataset because\n",
    "the dataset has already had differencing done in the data preprocessing phase."
   ]
  },
  {
   "cell_type": "code",
   "execution_count": 103,
   "metadata": {
    "scrolled": true
   },
   "outputs": [
    {
     "name": "stderr",
     "output_type": "stream",
     "text": [
      "/opt/conda/envs/python3/lib/python3.9/site-packages/statsmodels/tsa/base/tsa_model.py:471: ValueWarning: A date index has been provided, but it has no associated frequency information and so will be ignored when e.g. forecasting.\n",
      "  self._init_dates(dates, freq)\n",
      "/opt/conda/envs/python3/lib/python3.9/site-packages/statsmodels/tsa/base/tsa_model.py:471: ValueWarning: A date index has been provided, but it has no associated frequency information and so will be ignored when e.g. forecasting.\n",
      "  self._init_dates(dates, freq)\n",
      "/opt/conda/envs/python3/lib/python3.9/site-packages/statsmodels/tsa/base/tsa_model.py:471: ValueWarning: A date index has been provided, but it has no associated frequency information and so will be ignored when e.g. forecasting.\n",
      "  self._init_dates(dates, freq)\n"
     ]
    }
   ],
   "source": [
    "#Use the ARIMA() method in order to create an ARMA model(with 0 set as the differencing term). \n",
    "#Use the target of the training set in order to train the model.\n",
    "ma_model = ARIMA(y_train, order=(1, 0, 3)) \n",
    "#Use the fit() method in order to train the ARMA model.\n",
    "arma_result = ma_model.fit() "
   ]
  },
  {
   "cell_type": "code",
   "execution_count": 104,
   "metadata": {},
   "outputs": [
    {
     "name": "stderr",
     "output_type": "stream",
     "text": [
      "/opt/conda/envs/python3/lib/python3.9/site-packages/statsmodels/tsa/base/tsa_model.py:834: ValueWarning: No supported index is available. Prediction results will be given with an integer index beginning at `start`.\n",
      "  return get_prediction_index(\n"
     ]
    }
   ],
   "source": [
    "#Use the predict() method in order to make a prediction on the ARMA model.\n",
    "arma_pred = arma_result.predict(start=start_value, end=end_value, dynamic=False)"
   ]
  },
  {
   "cell_type": "code",
   "execution_count": 105,
   "metadata": {},
   "outputs": [
    {
     "name": "stdout",
     "output_type": "stream",
     "text": [
      "ARMA Model RMSE: 96.85\n",
      "ARMA Model RMSE Error Percentage: 69.39 %\n"
     ]
    }
   ],
   "source": [
    "#Use the RMSE method in order to calculate the RMSE for the ARMA model.\n",
    "arma_rmse = rmse(y_test, arma_pred)\n",
    "print(f\"ARMA Model RMSE: {arma_rmse:.2f}\")\n",
    "print(f\"ARMA Model RMSE Error Percentage: {rmse_percentage(arma_rmse, y_mean):.2f} %\")"
   ]
  },
  {
   "cell_type": "code",
   "execution_count": 106,
   "metadata": {},
   "outputs": [
    {
     "data": {
      "image/png": "[encoded data removed]",
      "text/plain": [
       "<Figure size 640x480 with 1 Axes>"
      ]
     },
     "metadata": {},
     "output_type": "display_data"
    }
   ],
   "source": [
    "#Use matplotlib in order to create a chart displaying the predictions for the ARMA model.\n",
    "plt.plot(y_test.index, arma_pred, color='blue', label='ARMA Prediction')\n",
    "plt.plot(y_test.index, y_test, color='red', label='y_test(Actual Values)')\n",
    "plt.gca().xaxis.set_major_formatter(mdates.DateFormatter('%Y-%m-%d')) \n",
    "plt.gca().xaxis.set_major_locator(mdates.DayLocator(interval=1))\n",
    "plt.title('ARMA Model Test Set Predictions')\n",
    "plt.xlabel('Dates')\n",
    "plt.ylabel('Values')\n",
    "plt.legend()\n",
    "plt.xticks(rotation=45)\n",
    "plt.show() "
   ]
  },
  {
   "cell_type": "markdown",
   "metadata": {},
   "source": [
    "Observation:\n",
    "The ARMA model's predicted values failed to make accurate predictions of the actual values(y_test)."
   ]
  },
  {
   "cell_type": "markdown",
   "metadata": {},
   "source": [
    "#### Seasonal auto_arima()"
   ]
  },
  {
   "cell_type": "code",
   "execution_count": 107,
   "metadata": {},
   "outputs": [],
   "source": [
    "#Use the auto_arima() method in order to determine the order for a SARIMAX model by setting the\n",
    "#seasonal hyperparameter to true.\n",
    "pmd_model = auto_arima(train['num_orders'], seasonal=True, m=12, scoring=rmse_scorer)"
   ]
  },
  {
   "cell_type": "code",
   "execution_count": 108,
   "metadata": {},
   "outputs": [
    {
     "name": "stdout",
     "output_type": "stream",
     "text": [
      "p= 1\n",
      "d= 0\n",
      "q=3\n"
     ]
    }
   ],
   "source": [
    "#Print the p(autoregressive component), d(differncing term), and q(moving average component)\n",
    "#of the SARIMAX model.\n",
    "print(f\"p= {pmd_model.order[0]}\")\n",
    "print(f\"d= {pmd_model.order[1]}\")\n",
    "print(f\"q={pmd_model.order[2]}\")"
   ]
  },
  {
   "cell_type": "markdown",
   "metadata": {},
   "source": [
    "Observation:\n",
    "Similar to the ARMA model, the differncing or \"d\" term has a value of 0, which would indicate that there is no\n",
    "model differencing required for the SARIMAX model as well."
   ]
  },
  {
   "cell_type": "markdown",
   "metadata": {},
   "source": [
    "#### SARIMAX Model"
   ]
  },
  {
   "cell_type": "code",
   "execution_count": 109,
   "metadata": {},
   "outputs": [
    {
     "name": "stdout",
     "output_type": "stream",
     "text": [
      "RUNNING THE L-BFGS-B CODE\n",
      "\n",
      "           * * *\n",
      "\n",
      "Machine precision = 2.220D-16\n",
      " N =            9     M =           10\n",
      "\n",
      "At X0         0 variables are exactly at the bounds\n",
      "\n",
      "At iterate    0    f=  5.36756D+00    |proj g|=  1.16919D-01\n"
     ]
    },
    {
     "name": "stderr",
     "output_type": "stream",
     "text": [
      "/opt/conda/envs/python3/lib/python3.9/site-packages/statsmodels/tsa/base/tsa_model.py:471: ValueWarning: A date index has been provided, but it has no associated frequency information and so will be ignored when e.g. forecasting.\n",
      "  self._init_dates(dates, freq)\n",
      "/opt/conda/envs/python3/lib/python3.9/site-packages/statsmodels/tsa/base/tsa_model.py:471: ValueWarning: A date index has been provided, but it has no associated frequency information and so will be ignored when e.g. forecasting.\n",
      "  self._init_dates(dates, freq)\n",
      "/opt/conda/envs/python3/lib/python3.9/site-packages/statsmodels/tsa/statespace/sarimax.py:997: UserWarning: Non-stationary starting seasonal autoregressive Using zeros as starting parameters.\n",
      "  warn('Non-stationary starting seasonal autoregressive'\n",
      " This problem is unconstrained.\n"
     ]
    },
    {
     "name": "stdout",
     "output_type": "stream",
     "text": [
      "\n",
      "At iterate    5    f=  5.34936D+00    |proj g|=  4.82889D-03\n",
      "\n",
      "At iterate   10    f=  5.34782D+00    |proj g|=  6.63621D-03\n",
      "\n",
      "At iterate   15    f=  5.34773D+00    |proj g|=  2.76680D-03\n",
      "\n",
      "At iterate   20    f=  5.34640D+00    |proj g|=  6.12250D-03\n",
      "\n",
      "At iterate   25    f=  5.34627D+00    |proj g|=  1.65299D-04\n",
      "\n",
      "At iterate   30    f=  5.34626D+00    |proj g|=  1.36344D-03\n",
      "\n",
      "At iterate   35    f=  5.34578D+00    |proj g|=  5.41827D-03\n",
      "\n",
      "At iterate   40    f=  5.34514D+00    |proj g|=  1.78330D-03\n",
      "\n",
      "At iterate   45    f=  5.34499D+00    |proj g|=  3.12960D-04\n"
     ]
    },
    {
     "name": "stderr",
     "output_type": "stream",
     "text": [
      "/opt/conda/envs/python3/lib/python3.9/site-packages/statsmodels/base/model.py:604: ConvergenceWarning: Maximum Likelihood optimization failed to converge. Check mle_retvals\n",
      "  warnings.warn(\"Maximum Likelihood optimization failed to \"\n"
     ]
    },
    {
     "name": "stdout",
     "output_type": "stream",
     "text": [
      "\n",
      "At iterate   50    f=  5.34495D+00    |proj g|=  9.64434D-04\n",
      "\n",
      "           * * *\n",
      "\n",
      "Tit   = total number of iterations\n",
      "Tnf   = total number of function evaluations\n",
      "Tnint = total number of segments explored during Cauchy searches\n",
      "Skip  = number of BFGS updates skipped\n",
      "Nact  = number of active bounds at final generalized Cauchy point\n",
      "Projg = norm of the final projected gradient\n",
      "F     = final function value\n",
      "\n",
      "           * * *\n",
      "\n",
      "   N    Tit     Tnf  Tnint  Skip  Nact     Projg        F\n",
      "    9     50     54      1     0     0   9.644D-04   5.345D+00\n",
      "  F =   5.3449469163597936     \n",
      "\n",
      "STOP: TOTAL NO. of ITERATIONS REACHED LIMIT                 \n"
     ]
    }
   ],
   "source": [
    "#Use the SARIMAX() method in order to create a SARIMAX model(with 0 set as the differencing term). \n",
    "#Use the target of the training set in order to train the model.\n",
    "SARIMAX = SARIMAX(y_train, order=(1, 0, 3), seasonal_order=(1, 0, 3, 12)) \n",
    "\n",
    "#Use the fit() method in order to train the SARIMAX model.\n",
    "sarimax_result = SARIMAX.fit()"
   ]
  },
  {
   "cell_type": "code",
   "execution_count": 110,
   "metadata": {},
   "outputs": [
    {
     "name": "stderr",
     "output_type": "stream",
     "text": [
      "/opt/conda/envs/python3/lib/python3.9/site-packages/statsmodels/tsa/base/tsa_model.py:834: ValueWarning: No supported index is available. Prediction results will be given with an integer index beginning at `start`.\n",
      "  return get_prediction_index(\n"
     ]
    }
   ],
   "source": [
    "#Use the predict() method in order to make a prediction on the SARIMAX model.\n",
    "sarimax_pred = sarimax_result.predict(start=start_value, end=end_value, dynamic=False)"
   ]
  },
  {
   "cell_type": "code",
   "execution_count": 111,
   "metadata": {},
   "outputs": [
    {
     "name": "stdout",
     "output_type": "stream",
     "text": [
      "SARIMAX Model RMSE: 97.77\n",
      "SARIMAX Model RMSE Error Percentage: 70.05 %\n"
     ]
    }
   ],
   "source": [
    "#Use the rsme() method in order to calculate the RMSE for a SARIMAX model.\n",
    "sarimax_rmse = rmse(y_test, sarimax_pred)\n",
    "print(f\"SARIMAX Model RMSE: {sarimax_rmse:.2f}\") \n",
    "print(f\"SARIMAX Model RMSE Error Percentage: {rmse_percentage(sarimax_rmse, y_mean):.2f} %\")"
   ]
  },
  {
   "cell_type": "code",
   "execution_count": 112,
   "metadata": {},
   "outputs": [
    {
     "data": {
      "image/png": "[encoded data removed]",
      "text/plain": [
       "<Figure size 640x480 with 1 Axes>"
      ]
     },
     "metadata": {},
     "output_type": "display_data"
    }
   ],
   "source": [
    "#Use matplotlib in order to create a chart displaying the predictions for the SARIMAX model.\n",
    "plt.plot(y_test.index, sarimax_pred, color='blue', label='SARIMAX Prediction')\n",
    "plt.plot(y_test.index, y_test, color='red', label='y_test (Actual Values)')\n",
    "plt.gca().xaxis.set_major_formatter(mdates.DateFormatter('%Y-%m-%d')) \n",
    "plt.gca().xaxis.set_major_locator(mdates.DayLocator(interval=1))\n",
    "plt.title('SARIMAX Model Test Set Predictions')\n",
    "plt.xlabel('Dates')\n",
    "plt.ylabel('Values')\n",
    "plt.legend()\n",
    "plt.xticks(rotation=45)\n",
    "plt.show() "
   ]
  },
  {
   "cell_type": "markdown",
   "metadata": {},
   "source": [
    "Observation:\n",
    "The SARIMAX model's predictions failed to make accurate predictions of the actual the actual values(y_test)."
   ]
  },
  {
   "cell_type": "markdown",
   "metadata": {},
   "source": [
    "Conclusion: \n",
    "According to the results, the Linear Regression model had the lowest RMSE score when making a prediction\n",
    "on the test set.  The Linear Regression Model had a an RMSE of 45.97 when making a prediction on the test \n",
    "set.  The Linear Regression model's RMSE is an acceptable RMSE and is lower than the RMSE required for\n",
    "the project which is 48.  "
   ]
  },
  {
   "cell_type": "markdown",
   "metadata": {},
   "source": [
    "## Testing"
   ]
  },
  {
   "cell_type": "code",
   "execution_count": 113,
   "metadata": {},
   "outputs": [
    {
     "name": "stdout",
     "output_type": "stream",
     "text": [
      "Linear Regression Model Test Set RMSE: 45.97\n",
      "Linear Regression Model Test Set RMSE Error Percentage: 32.94 %\n"
     ]
    }
   ],
   "source": [
    "#Use the predict() method in order to make a prediction for the model\n",
    "#using the scaled features for the test set.\n",
    "lr_test_predicted = lr.predict(X_test_scaled) \n",
    "\n",
    "#Use the rmse() method in order to calculate the RMSE on the test set.\n",
    "lr_test_rmse  = rmse(y_test, lr_test_predicted) \n",
    "print(f\"Linear Regression Model Test Set RMSE: {lr_test_rmse:.2f}\")\n",
    "print(f\"Linear Regression Model Test Set RMSE Error Percentage: {rmse_percentage(lr_test_rmse, y_mean):.2f} %\")"
   ]
  },
  {
   "cell_type": "code",
   "execution_count": 114,
   "metadata": {},
   "outputs": [
    {
     "data": {
      "image/png": "[encoded data removed]",
      "text/plain": [
       "<Figure size 640x480 with 1 Axes>"
      ]
     },
     "metadata": {},
     "output_type": "display_data"
    }
   ],
   "source": [
    "plt.plot(y_test.index, lr_test_predicted, color='blue', label='Linear Regression Prediction')\n",
    "plt.plot(y_test.index, y_test, color='red', label='y_test (Actual Values)')\n",
    "plt.gca().xaxis.set_major_formatter(mdates.DateFormatter('%Y-%m-%d')) \n",
    "plt.gca().xaxis.set_major_locator(mdates.DayLocator(interval=1))\n",
    "plt.title('Linear Regression Test Set Predictions')\n",
    "plt.xlabel('Dates')\n",
    "plt.ylabel('Values')\n",
    "plt.legend()\n",
    "plt.xticks(rotation=45)\n",
    "plt.show() "
   ]
  },
  {
   "cell_type": "markdown",
   "metadata": {},
   "source": [
    "Conclusion:\n",
    "It appears that although not perfect, the Linear Regression model's predictions are\n",
    "closer to the actual value (y_test) than the other models.  From all the models trained,\n",
    "the Linear Regression model is the best candidate to make future predictions for the company."
   ]
  },
  {
   "cell_type": "markdown",
   "metadata": {},
   "source": [
    "#### Final Conclusion"
   ]
  },
  {
   "cell_type": "markdown",
   "metadata": {},
   "source": [
    "Out of all the models, the Linear Regression Model had the best RMSE 45.97, which was lower than the project's\n",
    "requirement's RMSE of 48.\n",
    "\n",
    "Models Ranked By RMSE (Test Set Prediction):\n",
    "1) Linear Regression Model Test Set RMSE: 45.97 \n",
    "   Linear Regression Model Test Set RMSE Percentage: 32.94 % \n",
    "\n",
    "2) Light GBM Model Test Set RMSE: 67.55\n",
    "   Light GBM Regressor Model Test Set RMSE Error Percentage: 48.40 % \n",
    "\n",
    "3) Random Forest Regressor Model Test Set RMSE: 71.12\n",
    "   Random Forest Regressor Model Test Set RMSE Error Percentage: 51.97 % \n",
    "\n",
    "4) AutoRegression (AR) Model RMSE: 95.24\n",
    "   AutoRegression (AR) Model RMSE Error Percentage: 68.24 %\n",
    "\n",
    "5) ARMA Model RMSE: 96.85\n",
    "   ARMA Model RMSE Error Percentage: 69.39 %  \n",
    "\n",
    "6) SARIMAX Model RMSE: 97.83\n",
    "   SARIMAX Model RMSE Error Percentage: 70.09 % \n",
    "\n",
    "\n",
    "Observations:\n",
    "* The data was originally nonstationary and needed differencing to be performed on the data in order \n",
    "to make it stationary.\n",
    "\n",
    "* There is some seasonality noted in the data.\n",
    "\n",
    "* There is an overall positive trend noted in the data (number of orders).\n",
    "\n",
    "* There is some randomoness noted in the residual data, which is normally a positive result.\n",
    "\n",
    "* The Linear Regression, Light GBM, and Random Forest Regression models had a better RMSE than the constant model's baseline RMSE,\n",
    "which was 94.70.  THe Autoregression(AR), ARMA and SARIMAX models did not have a better RMSE than the constant model's baseline\n",
    "RMSE. \n",
    "\n",
    "* The time series models(Autoregression, ARMA and SARIMAX) did not perform better than the other models, possibly because these\n",
    "models only mainly take into account the target data when training.\n",
    "\n",
    "* The seasonal model (SARIMAX) did not do better than the nonseasonal time series models (Autoregression and ARMA). \n",
    "\n",
    "* Some of the models made worse predictions on the test set, than on the training set."
   ]
  },
  {
   "cell_type": "markdown",
   "metadata": {},
   "source": [
    "# Review checklist"
   ]
  },
  {
   "cell_type": "markdown",
   "metadata": {},
   "source": [
    "- [x]  Jupyter Notebook is open\n",
    "- [ ]  The code is error-free\n",
    "- [ ]  The cells with the code have been arranged in order of execution\n",
    "- [ ]  The data has been downloaded and prepared\n",
    "- [ ]  The data has been analyzed\n",
    "- [ ]  The model has been trained and hyperparameters have been selected\n",
    "- [ ]  The models have been evaluated. Conclusion has been provided\n",
    "- [ ] *RMSE* for the test set is not more than 48"
   ]
  }
 ],
 "metadata": {
  "ExecuteTimeLog": [
   {
    "duration": 2982,
    "start_time": "2025-05-01T23:45:12.425Z"
   },
   {
    "duration": 34,
    "start_time": "2025-05-01T23:45:15.410Z"
   },
   {
    "duration": 3,
    "start_time": "2025-05-01T23:45:15.446Z"
   },
   {
    "duration": 4,
    "start_time": "2025-05-01T23:45:15.450Z"
   },
   {
    "duration": 3,
    "start_time": "2025-05-01T23:45:15.457Z"
   },
   {
    "duration": 9,
    "start_time": "2025-05-01T23:45:15.461Z"
   },
   {
    "duration": 7,
    "start_time": "2025-05-01T23:45:15.471Z"
   },
   {
    "duration": 5,
    "start_time": "2025-05-01T23:45:15.480Z"
   },
   {
    "duration": 4,
    "start_time": "2025-05-01T23:45:15.486Z"
   },
   {
    "duration": 32,
    "start_time": "2025-05-01T23:45:15.492Z"
   },
   {
    "duration": 4,
    "start_time": "2025-05-01T23:45:15.527Z"
   },
   {
    "duration": 7,
    "start_time": "2025-05-01T23:45:15.533Z"
   },
   {
    "duration": 9,
    "start_time": "2025-05-01T23:45:15.542Z"
   },
   {
    "duration": 9,
    "start_time": "2025-05-01T23:45:15.555Z"
   },
   {
    "duration": 321,
    "start_time": "2025-05-01T23:45:15.565Z"
   },
   {
    "duration": 8,
    "start_time": "2025-05-01T23:45:15.888Z"
   },
   {
    "duration": 6,
    "start_time": "2025-05-01T23:45:15.898Z"
   },
   {
    "duration": 166,
    "start_time": "2025-05-01T23:45:15.906Z"
   },
   {
    "duration": 5,
    "start_time": "2025-05-01T23:45:16.073Z"
   },
   {
    "duration": 493,
    "start_time": "2025-05-01T23:45:16.080Z"
   },
   {
    "duration": 212,
    "start_time": "2025-05-01T23:45:16.574Z"
   },
   {
    "duration": 253,
    "start_time": "2025-05-01T23:45:16.788Z"
   },
   {
    "duration": 224,
    "start_time": "2025-05-01T23:45:17.043Z"
   },
   {
    "duration": 286,
    "start_time": "2025-05-01T23:45:17.269Z"
   },
   {
    "duration": 215,
    "start_time": "2025-05-01T23:45:17.557Z"
   },
   {
    "duration": 4,
    "start_time": "2025-05-01T23:45:17.774Z"
   },
   {
    "duration": 7,
    "start_time": "2025-05-01T23:45:17.780Z"
   },
   {
    "duration": 6,
    "start_time": "2025-05-01T23:45:17.788Z"
   },
   {
    "duration": 32,
    "start_time": "2025-05-01T23:45:17.796Z"
   },
   {
    "duration": 10,
    "start_time": "2025-05-01T23:45:17.829Z"
   },
   {
    "duration": 9,
    "start_time": "2025-05-01T23:45:17.840Z"
   },
   {
    "duration": 6,
    "start_time": "2025-05-01T23:45:17.851Z"
   },
   {
    "duration": 7,
    "start_time": "2025-05-01T23:45:17.859Z"
   },
   {
    "duration": 6,
    "start_time": "2025-05-01T23:45:17.867Z"
   },
   {
    "duration": 8,
    "start_time": "2025-05-01T23:45:17.875Z"
   },
   {
    "duration": 3,
    "start_time": "2025-05-01T23:45:17.884Z"
   },
   {
    "duration": 6,
    "start_time": "2025-05-01T23:45:17.924Z"
   },
   {
    "duration": 7,
    "start_time": "2025-05-01T23:45:17.933Z"
   },
   {
    "duration": 5,
    "start_time": "2025-05-01T23:45:17.942Z"
   },
   {
    "duration": 6,
    "start_time": "2025-05-01T23:45:17.948Z"
   },
   {
    "duration": 5,
    "start_time": "2025-05-01T23:45:17.960Z"
   },
   {
    "duration": 4,
    "start_time": "2025-05-01T23:45:17.966Z"
   },
   {
    "duration": 7,
    "start_time": "2025-05-01T23:45:17.971Z"
   },
   {
    "duration": 46,
    "start_time": "2025-05-01T23:45:17.979Z"
   },
   {
    "duration": 4,
    "start_time": "2025-05-01T23:45:18.026Z"
   },
   {
    "duration": 3,
    "start_time": "2025-05-01T23:45:18.032Z"
   },
   {
    "duration": 5,
    "start_time": "2025-05-01T23:45:18.037Z"
   },
   {
    "duration": 5,
    "start_time": "2025-05-01T23:45:18.044Z"
   },
   {
    "duration": 4,
    "start_time": "2025-05-01T23:45:18.051Z"
   },
   {
    "duration": 5,
    "start_time": "2025-05-01T23:45:18.056Z"
   },
   {
    "duration": 4,
    "start_time": "2025-05-01T23:45:18.062Z"
   },
   {
    "duration": 5,
    "start_time": "2025-05-01T23:45:18.068Z"
   },
   {
    "duration": 51,
    "start_time": "2025-05-01T23:45:18.075Z"
   },
   {
    "duration": 8,
    "start_time": "2025-05-01T23:45:18.128Z"
   },
   {
    "duration": 5,
    "start_time": "2025-05-01T23:45:18.138Z"
   },
   {
    "duration": 5,
    "start_time": "2025-05-01T23:45:18.144Z"
   },
   {
    "duration": 4,
    "start_time": "2025-05-01T23:45:18.151Z"
   },
   {
    "duration": 5,
    "start_time": "2025-05-01T23:45:18.157Z"
   },
   {
    "duration": 6,
    "start_time": "2025-05-01T23:45:18.164Z"
   },
   {
    "duration": 5,
    "start_time": "2025-05-01T23:45:18.171Z"
   },
   {
    "duration": 47,
    "start_time": "2025-05-01T23:45:18.177Z"
   },
   {
    "duration": 8,
    "start_time": "2025-05-01T23:45:18.225Z"
   },
   {
    "duration": 3,
    "start_time": "2025-05-01T23:45:18.234Z"
   },
   {
    "duration": 4,
    "start_time": "2025-05-01T23:45:18.239Z"
   },
   {
    "duration": 5,
    "start_time": "2025-05-01T23:45:18.245Z"
   },
   {
    "duration": 6,
    "start_time": "2025-05-01T23:45:18.251Z"
   },
   {
    "duration": 6,
    "start_time": "2025-05-01T23:45:18.259Z"
   },
   {
    "duration": 5,
    "start_time": "2025-05-01T23:45:18.267Z"
   },
   {
    "duration": 3,
    "start_time": "2025-05-01T23:45:18.274Z"
   },
   {
    "duration": 46,
    "start_time": "2025-05-01T23:45:18.279Z"
   },
   {
    "duration": 4,
    "start_time": "2025-05-01T23:45:18.327Z"
   },
   {
    "duration": 5,
    "start_time": "2025-05-01T23:45:18.333Z"
   },
   {
    "duration": 6,
    "start_time": "2025-05-01T23:45:18.340Z"
   },
   {
    "duration": 4,
    "start_time": "2025-05-01T23:45:18.348Z"
   },
   {
    "duration": 5,
    "start_time": "2025-05-01T23:45:18.354Z"
   },
   {
    "duration": 196,
    "start_time": "2025-05-01T23:45:18.361Z"
   },
   {
    "duration": 4,
    "start_time": "2025-05-01T23:45:18.558Z"
   },
   {
    "duration": 2,
    "start_time": "2025-05-01T23:45:18.564Z"
   },
   {
    "duration": 13411,
    "start_time": "2025-05-01T23:46:14.613Z"
   },
   {
    "duration": 4,
    "start_time": "2025-05-01T23:46:28.026Z"
   },
   {
    "duration": 592,
    "start_time": "2025-05-01T23:46:28.032Z"
   },
   {
    "duration": 10,
    "start_time": "2025-05-01T23:46:28.630Z"
   },
   {
    "duration": 4,
    "start_time": "2025-05-01T23:46:28.645Z"
   },
   {
    "duration": 234,
    "start_time": "2025-05-01T23:46:28.650Z"
   },
   {
    "duration": 107555,
    "start_time": "2025-05-01T23:46:28.886Z"
   },
   {
    "duration": 80,
    "start_time": "2025-05-01T23:48:16.447Z"
   },
   {
    "duration": 1294,
    "start_time": "2025-05-01T23:57:02.849Z"
   },
   {
    "duration": 27,
    "start_time": "2025-05-01T23:57:04.146Z"
   },
   {
    "duration": 3,
    "start_time": "2025-05-01T23:57:04.175Z"
   },
   {
    "duration": 5,
    "start_time": "2025-05-01T23:57:04.183Z"
   },
   {
    "duration": 4,
    "start_time": "2025-05-01T23:57:04.191Z"
   },
   {
    "duration": 30,
    "start_time": "2025-05-01T23:57:04.197Z"
   },
   {
    "duration": 8,
    "start_time": "2025-05-01T23:57:04.229Z"
   },
   {
    "duration": 5,
    "start_time": "2025-05-01T23:57:04.239Z"
   },
   {
    "duration": 5,
    "start_time": "2025-05-01T23:57:04.245Z"
   },
   {
    "duration": 4,
    "start_time": "2025-05-01T23:57:04.253Z"
   },
   {
    "duration": 5,
    "start_time": "2025-05-01T23:57:04.258Z"
   },
   {
    "duration": 8,
    "start_time": "2025-05-01T23:57:04.265Z"
   },
   {
    "duration": 50,
    "start_time": "2025-05-01T23:57:04.275Z"
   },
   {
    "duration": 12,
    "start_time": "2025-05-01T23:57:04.328Z"
   },
   {
    "duration": 229,
    "start_time": "2025-05-01T23:57:04.343Z"
   },
   {
    "duration": 9,
    "start_time": "2025-05-01T23:57:04.575Z"
   },
   {
    "duration": 8,
    "start_time": "2025-05-01T23:57:04.586Z"
   },
   {
    "duration": 179,
    "start_time": "2025-05-01T23:57:04.595Z"
   },
   {
    "duration": 6,
    "start_time": "2025-05-01T23:57:04.775Z"
   },
   {
    "duration": 573,
    "start_time": "2025-05-01T23:57:04.783Z"
   },
   {
    "duration": 217,
    "start_time": "2025-05-01T23:57:05.359Z"
   },
   {
    "duration": 249,
    "start_time": "2025-05-01T23:57:05.579Z"
   },
   {
    "duration": 244,
    "start_time": "2025-05-01T23:57:05.830Z"
   },
   {
    "duration": 204,
    "start_time": "2025-05-01T23:57:06.076Z"
   },
   {
    "duration": 201,
    "start_time": "2025-05-01T23:57:06.282Z"
   },
   {
    "duration": 3,
    "start_time": "2025-05-01T23:57:06.485Z"
   },
   {
    "duration": 34,
    "start_time": "2025-05-01T23:57:06.490Z"
   },
   {
    "duration": 7,
    "start_time": "2025-05-01T23:57:06.531Z"
   },
   {
    "duration": 8,
    "start_time": "2025-05-01T23:57:06.540Z"
   },
   {
    "duration": 10,
    "start_time": "2025-05-01T23:57:06.550Z"
   },
   {
    "duration": 10,
    "start_time": "2025-05-01T23:57:06.561Z"
   },
   {
    "duration": 7,
    "start_time": "2025-05-01T23:57:06.573Z"
   },
   {
    "duration": 43,
    "start_time": "2025-05-01T23:57:06.582Z"
   },
   {
    "duration": 7,
    "start_time": "2025-05-01T23:57:06.627Z"
   },
   {
    "duration": 10,
    "start_time": "2025-05-01T23:57:06.636Z"
   },
   {
    "duration": 3,
    "start_time": "2025-05-01T23:57:06.648Z"
   },
   {
    "duration": 5,
    "start_time": "2025-05-01T23:57:06.653Z"
   },
   {
    "duration": 6,
    "start_time": "2025-05-01T23:57:06.660Z"
   },
   {
    "duration": 5,
    "start_time": "2025-05-01T23:57:06.668Z"
   },
   {
    "duration": 5,
    "start_time": "2025-05-01T23:57:06.675Z"
   },
   {
    "duration": 7,
    "start_time": "2025-05-01T23:57:06.724Z"
   },
   {
    "duration": 5,
    "start_time": "2025-05-01T23:57:06.733Z"
   },
   {
    "duration": 5,
    "start_time": "2025-05-01T23:57:06.740Z"
   },
   {
    "duration": 5,
    "start_time": "2025-05-01T23:57:06.747Z"
   },
   {
    "duration": 4,
    "start_time": "2025-05-01T23:57:06.754Z"
   },
   {
    "duration": 4,
    "start_time": "2025-05-01T23:57:06.759Z"
   },
   {
    "duration": 6,
    "start_time": "2025-05-01T23:57:06.765Z"
   },
   {
    "duration": 50,
    "start_time": "2025-05-01T23:57:06.774Z"
   },
   {
    "duration": 7,
    "start_time": "2025-05-01T23:57:06.826Z"
   },
   {
    "duration": 6,
    "start_time": "2025-05-01T23:57:06.834Z"
   },
   {
    "duration": 4,
    "start_time": "2025-05-01T23:57:06.842Z"
   },
   {
    "duration": 5,
    "start_time": "2025-05-01T23:57:06.848Z"
   },
   {
    "duration": 3,
    "start_time": "2025-05-01T23:57:06.855Z"
   },
   {
    "duration": 9,
    "start_time": "2025-05-01T23:57:06.859Z"
   },
   {
    "duration": 6,
    "start_time": "2025-05-01T23:57:06.869Z"
   },
   {
    "duration": 49,
    "start_time": "2025-05-01T23:57:06.877Z"
   },
   {
    "duration": 5,
    "start_time": "2025-05-01T23:57:06.929Z"
   },
   {
    "duration": 7,
    "start_time": "2025-05-01T23:57:06.936Z"
   },
   {
    "duration": 6,
    "start_time": "2025-05-01T23:57:06.945Z"
   },
   {
    "duration": 5,
    "start_time": "2025-05-01T23:57:06.952Z"
   },
   {
    "duration": 5,
    "start_time": "2025-05-01T23:57:06.959Z"
   },
   {
    "duration": 8,
    "start_time": "2025-05-01T23:57:06.965Z"
   },
   {
    "duration": 3,
    "start_time": "2025-05-01T23:57:06.975Z"
   },
   {
    "duration": 45,
    "start_time": "2025-05-01T23:57:06.980Z"
   },
   {
    "duration": 6,
    "start_time": "2025-05-01T23:57:07.027Z"
   },
   {
    "duration": 7,
    "start_time": "2025-05-01T23:57:07.034Z"
   },
   {
    "duration": 6,
    "start_time": "2025-05-01T23:57:07.042Z"
   },
   {
    "duration": 5,
    "start_time": "2025-05-01T23:57:07.050Z"
   },
   {
    "duration": 4,
    "start_time": "2025-05-01T23:57:07.056Z"
   },
   {
    "duration": 4,
    "start_time": "2025-05-01T23:57:07.061Z"
   },
   {
    "duration": 4,
    "start_time": "2025-05-01T23:57:07.067Z"
   },
   {
    "duration": 5,
    "start_time": "2025-05-01T23:57:07.072Z"
   },
   {
    "duration": 48,
    "start_time": "2025-05-01T23:57:07.078Z"
   },
   {
    "duration": 6,
    "start_time": "2025-05-01T23:57:07.128Z"
   },
   {
    "duration": 6,
    "start_time": "2025-05-01T23:57:07.135Z"
   },
   {
    "duration": 185,
    "start_time": "2025-05-01T23:57:07.143Z"
   },
   {
    "duration": 3,
    "start_time": "2025-05-01T23:57:07.330Z"
   },
   {
    "duration": 4,
    "start_time": "2025-05-01T23:57:07.335Z"
   },
   {
    "duration": 4046,
    "start_time": "2025-05-01T23:57:07.341Z"
   },
   {
    "duration": 3,
    "start_time": "2025-05-01T23:57:11.389Z"
   },
   {
    "duration": 340,
    "start_time": "2025-05-01T23:57:11.394Z"
   },
   {
    "duration": 16,
    "start_time": "2025-05-01T23:57:11.743Z"
   },
   {
    "duration": 16,
    "start_time": "2025-05-01T23:57:11.761Z"
   },
   {
    "duration": 182,
    "start_time": "2025-05-01T23:57:11.779Z"
   },
   {
    "duration": 3,
    "start_time": "2025-05-01T23:57:11.963Z"
   },
   {
    "duration": 4,
    "start_time": "2025-05-01T23:57:11.967Z"
   },
   {
    "duration": 371,
    "start_time": "2025-05-01T23:57:11.972Z"
   },
   {
    "duration": 3,
    "start_time": "2025-05-01T23:57:12.345Z"
   },
   {
    "duration": 97,
    "start_time": "2025-05-01T23:57:12.350Z"
   },
   {
    "duration": 80,
    "start_time": "2025-05-01T23:57:12.449Z"
   },
   {
    "duration": 8,
    "start_time": "2025-05-01T23:57:12.531Z"
   },
   {
    "duration": 214,
    "start_time": "2025-05-01T23:57:12.541Z"
   },
   {
    "duration": 2,
    "start_time": "2025-05-01T23:57:12.757Z"
   },
   {
    "duration": 1175,
    "start_time": "2025-05-01T23:58:10.697Z"
   },
   {
    "duration": 21,
    "start_time": "2025-05-01T23:58:11.875Z"
   },
   {
    "duration": 2,
    "start_time": "2025-05-01T23:58:11.898Z"
   },
   {
    "duration": 202,
    "start_time": "2025-05-01T23:58:19.293Z"
   },
   {
    "duration": 3,
    "start_time": "2025-05-01T23:58:19.497Z"
   },
   {
    "duration": 3,
    "start_time": "2025-05-01T23:58:19.503Z"
   },
   {
    "duration": 432,
    "start_time": "2025-05-01T23:58:19.508Z"
   },
   {
    "duration": 3,
    "start_time": "2025-05-01T23:58:19.942Z"
   },
   {
    "duration": 96,
    "start_time": "2025-05-01T23:58:19.947Z"
   },
   {
    "duration": 83,
    "start_time": "2025-05-01T23:58:20.045Z"
   },
   {
    "duration": 17,
    "start_time": "2025-05-01T23:58:20.130Z"
   },
   {
    "duration": 221,
    "start_time": "2025-05-01T23:58:20.149Z"
   },
   {
    "duration": 2,
    "start_time": "2025-05-01T23:58:20.372Z"
   },
   {
    "duration": 52058,
    "start_time": "2025-05-01T23:58:20.376Z"
   },
   {
    "duration": 6,
    "start_time": "2025-05-01T23:59:12.439Z"
   },
   {
    "duration": 13593,
    "start_time": "2025-05-01T23:59:12.758Z"
   },
   {
    "duration": 5,
    "start_time": "2025-05-01T23:59:26.425Z"
   },
   {
    "duration": 113845,
    "start_time": "2025-05-01T23:59:27.297Z"
   },
   {
    "duration": 81,
    "start_time": "2025-05-02T00:01:21.148Z"
   },
   {
    "duration": 7104,
    "start_time": "2025-05-02T00:01:21.231Z"
   },
   {
    "duration": 7,
    "start_time": "2025-05-02T00:01:28.337Z"
   },
   {
    "duration": 5,
    "start_time": "2025-05-02T00:01:28.346Z"
   },
   {
    "duration": 244,
    "start_time": "2025-05-02T00:01:28.352Z"
   },
   {
    "duration": 4,
    "start_time": "2025-05-02T00:01:28.598Z"
   },
   {
    "duration": 183,
    "start_time": "2025-05-02T00:01:28.605Z"
   },
   {
    "duration": 20,
    "start_time": "2025-05-02T00:02:09.589Z"
   },
   {
    "duration": 9,
    "start_time": "2025-05-02T00:02:10.830Z"
   },
   {
    "duration": 8,
    "start_time": "2025-05-02T00:02:15.039Z"
   },
   {
    "duration": 2857,
    "start_time": "2025-09-19T05:14:01.881Z"
   },
   {
    "duration": 32,
    "start_time": "2025-09-19T05:14:04.740Z"
   },
   {
    "duration": 4,
    "start_time": "2025-09-19T05:14:04.773Z"
   },
   {
    "duration": 3,
    "start_time": "2025-09-19T05:14:04.779Z"
   },
   {
    "duration": 10,
    "start_time": "2025-09-19T05:14:04.783Z"
   },
   {
    "duration": 8,
    "start_time": "2025-09-19T05:14:04.795Z"
   },
   {
    "duration": 6,
    "start_time": "2025-09-19T05:14:04.805Z"
   },
   {
    "duration": 4,
    "start_time": "2025-09-19T05:14:04.813Z"
   },
   {
    "duration": 5,
    "start_time": "2025-09-19T05:14:04.819Z"
   },
   {
    "duration": 4,
    "start_time": "2025-09-19T05:14:04.827Z"
   },
   {
    "duration": 5,
    "start_time": "2025-09-19T05:14:04.832Z"
   },
   {
    "duration": 8,
    "start_time": "2025-09-19T05:14:04.838Z"
   },
   {
    "duration": 50,
    "start_time": "2025-09-19T05:14:04.847Z"
   },
   {
    "duration": 8,
    "start_time": "2025-09-19T05:14:04.899Z"
   },
   {
    "duration": 242,
    "start_time": "2025-09-19T05:14:04.909Z"
   },
   {
    "duration": 9,
    "start_time": "2025-09-19T05:14:05.153Z"
   },
   {
    "duration": 7,
    "start_time": "2025-09-19T05:14:05.163Z"
   },
   {
    "duration": 167,
    "start_time": "2025-09-19T05:14:05.171Z"
   },
   {
    "duration": 4,
    "start_time": "2025-09-19T05:14:05.340Z"
   },
   {
    "duration": 483,
    "start_time": "2025-09-19T05:14:05.346Z"
   },
   {
    "duration": 217,
    "start_time": "2025-09-19T05:14:05.831Z"
   },
   {
    "duration": 244,
    "start_time": "2025-09-19T05:14:06.050Z"
   },
   {
    "duration": 251,
    "start_time": "2025-09-19T05:14:06.296Z"
   },
   {
    "duration": 194,
    "start_time": "2025-09-19T05:14:06.548Z"
   },
   {
    "duration": 211,
    "start_time": "2025-09-19T05:14:06.743Z"
   },
   {
    "duration": 3,
    "start_time": "2025-09-19T05:14:06.956Z"
   },
   {
    "duration": 32,
    "start_time": "2025-09-19T05:14:06.961Z"
   },
   {
    "duration": 5,
    "start_time": "2025-09-19T05:14:06.999Z"
   },
   {
    "duration": 7,
    "start_time": "2025-09-19T05:14:07.006Z"
   },
   {
    "duration": 9,
    "start_time": "2025-09-19T05:14:07.015Z"
   },
   {
    "duration": 8,
    "start_time": "2025-09-19T05:14:07.026Z"
   },
   {
    "duration": 6,
    "start_time": "2025-09-19T05:14:07.036Z"
   },
   {
    "duration": 6,
    "start_time": "2025-09-19T05:14:07.044Z"
   },
   {
    "duration": 46,
    "start_time": "2025-09-19T05:14:07.051Z"
   },
   {
    "duration": 10,
    "start_time": "2025-09-19T05:14:07.098Z"
   },
   {
    "duration": 3,
    "start_time": "2025-09-19T05:14:07.109Z"
   },
   {
    "duration": 4,
    "start_time": "2025-09-19T05:14:07.114Z"
   },
   {
    "duration": 4,
    "start_time": "2025-09-19T05:14:07.120Z"
   },
   {
    "duration": 4,
    "start_time": "2025-09-19T05:14:07.126Z"
   },
   {
    "duration": 6,
    "start_time": "2025-09-19T05:14:07.132Z"
   },
   {
    "duration": 4,
    "start_time": "2025-09-19T05:14:07.140Z"
   },
   {
    "duration": 3,
    "start_time": "2025-09-19T05:14:07.146Z"
   },
   {
    "duration": 46,
    "start_time": "2025-09-19T05:14:07.151Z"
   },
   {
    "duration": 4,
    "start_time": "2025-09-19T05:14:07.198Z"
   },
   {
    "duration": 4,
    "start_time": "2025-09-19T05:14:07.204Z"
   },
   {
    "duration": 4,
    "start_time": "2025-09-19T05:14:07.209Z"
   },
   {
    "duration": 6,
    "start_time": "2025-09-19T05:14:07.215Z"
   },
   {
    "duration": 5,
    "start_time": "2025-09-19T05:14:07.223Z"
   },
   {
    "duration": 5,
    "start_time": "2025-09-19T05:14:07.229Z"
   },
   {
    "duration": 6,
    "start_time": "2025-09-19T05:14:07.235Z"
   },
   {
    "duration": 50,
    "start_time": "2025-09-19T05:14:07.243Z"
   },
   {
    "duration": 6,
    "start_time": "2025-09-19T05:14:07.294Z"
   },
   {
    "duration": 3,
    "start_time": "2025-09-19T05:14:07.301Z"
   },
   {
    "duration": 8,
    "start_time": "2025-09-19T05:14:07.305Z"
   },
   {
    "duration": 6,
    "start_time": "2025-09-19T05:14:07.315Z"
   },
   {
    "duration": 6,
    "start_time": "2025-09-19T05:14:07.322Z"
   },
   {
    "duration": 5,
    "start_time": "2025-09-19T05:14:07.329Z"
   },
   {
    "duration": 5,
    "start_time": "2025-09-19T05:14:07.336Z"
   },
   {
    "duration": 5,
    "start_time": "2025-09-19T05:14:07.343Z"
   },
   {
    "duration": 4,
    "start_time": "2025-09-19T05:14:07.349Z"
   },
   {
    "duration": 5,
    "start_time": "2025-09-19T05:14:07.393Z"
   },
   {
    "duration": 6,
    "start_time": "2025-09-19T05:14:07.400Z"
   },
   {
    "duration": 3,
    "start_time": "2025-09-19T05:14:07.408Z"
   },
   {
    "duration": 5,
    "start_time": "2025-09-19T05:14:07.412Z"
   },
   {
    "duration": 6,
    "start_time": "2025-09-19T05:14:07.418Z"
   },
   {
    "duration": 7,
    "start_time": "2025-09-19T05:14:07.425Z"
   },
   {
    "duration": 6,
    "start_time": "2025-09-19T05:14:07.433Z"
   },
   {
    "duration": 5,
    "start_time": "2025-09-19T05:14:07.440Z"
   },
   {
    "duration": 3,
    "start_time": "2025-09-19T05:14:07.493Z"
   },
   {
    "duration": 2,
    "start_time": "2025-09-19T05:14:07.498Z"
   },
   {
    "duration": 4,
    "start_time": "2025-09-19T05:14:07.502Z"
   },
   {
    "duration": 5,
    "start_time": "2025-09-19T05:14:07.508Z"
   },
   {
    "duration": 6,
    "start_time": "2025-09-19T05:14:07.514Z"
   },
   {
    "duration": 4,
    "start_time": "2025-09-19T05:14:07.522Z"
   },
   {
    "duration": 5,
    "start_time": "2025-09-19T05:14:07.527Z"
   },
   {
    "duration": 195,
    "start_time": "2025-09-19T05:14:07.534Z"
   },
   {
    "duration": 2,
    "start_time": "2025-09-19T05:14:07.731Z"
   },
   {
    "duration": 3,
    "start_time": "2025-09-19T05:14:07.735Z"
   },
   {
    "duration": 3753,
    "start_time": "2025-09-19T05:14:07.739Z"
   },
   {
    "duration": 3,
    "start_time": "2025-09-19T05:14:11.494Z"
   },
   {
    "duration": 323,
    "start_time": "2025-09-19T05:14:11.499Z"
   },
   {
    "duration": 15,
    "start_time": "2025-09-19T05:14:11.829Z"
   },
   {
    "duration": 17,
    "start_time": "2025-09-19T05:14:11.846Z"
   },
   {
    "duration": 184,
    "start_time": "2025-09-19T05:14:11.866Z"
   },
   {
    "duration": 3,
    "start_time": "2025-09-19T05:14:12.052Z"
   },
   {
    "duration": 3,
    "start_time": "2025-09-19T05:14:12.057Z"
   },
   {
    "duration": 446,
    "start_time": "2025-09-19T05:14:12.063Z"
   },
   {
    "duration": 3,
    "start_time": "2025-09-19T05:14:12.511Z"
   },
   {
    "duration": 107,
    "start_time": "2025-09-19T05:14:12.516Z"
   },
   {
    "duration": 7,
    "start_time": "2025-09-19T05:14:12.694Z"
   },
   {
    "duration": 8,
    "start_time": "2025-09-19T05:14:12.702Z"
   },
   {
    "duration": 212,
    "start_time": "2025-09-19T05:14:12.711Z"
   },
   {
    "duration": 2,
    "start_time": "2025-09-19T05:14:12.925Z"
   },
   {
    "duration": 47979,
    "start_time": "2025-09-19T05:14:12.929Z"
   },
   {
    "duration": 4,
    "start_time": "2025-09-19T05:15:00.910Z"
   },
   {
    "duration": 88,
    "start_time": "2025-09-19T05:15:00.916Z"
   },
   {
    "duration": 5,
    "start_time": "2025-09-19T05:15:01.006Z"
   },
   {
    "duration": 5,
    "start_time": "2025-09-19T05:15:01.013Z"
   },
   {
    "duration": 3,
    "start_time": "2025-09-19T05:15:01.020Z"
   },
   {
    "duration": 216,
    "start_time": "2025-09-19T05:15:01.024Z"
   },
   {
    "duration": 13864,
    "start_time": "2025-09-19T05:15:01.241Z"
   },
   {
    "duration": 3,
    "start_time": "2025-09-19T05:15:15.107Z"
   },
   {
    "duration": 591,
    "start_time": "2025-09-19T05:15:15.112Z"
   },
   {
    "duration": 9,
    "start_time": "2025-09-19T05:15:15.708Z"
   },
   {
    "duration": 4,
    "start_time": "2025-09-19T05:15:15.797Z"
   },
   {
    "duration": 181,
    "start_time": "2025-09-19T05:15:15.802Z"
   },
   {
    "duration": 106930,
    "start_time": "2025-09-19T05:15:15.985Z"
   },
   {
    "duration": 77,
    "start_time": "2025-09-19T05:17:02.917Z"
   },
   {
    "duration": 6905,
    "start_time": "2025-09-19T05:17:02.996Z"
   },
   {
    "duration": 7,
    "start_time": "2025-09-19T05:17:09.903Z"
   },
   {
    "duration": 81,
    "start_time": "2025-09-19T05:17:09.915Z"
   },
   {
    "duration": 184,
    "start_time": "2025-09-19T05:17:09.998Z"
   },
   {
    "duration": 10,
    "start_time": "2025-09-19T05:17:10.184Z"
   },
   {
    "duration": 169,
    "start_time": "2025-09-19T05:17:10.196Z"
   }
  ],
  "kernelspec": {
   "display_name": "Python 3 (ipykernel)",
   "language": "python",
   "name": "python3"
  },
  "language_info": {
   "codemirror_mode": {
    "name": "ipython",
    "version": 3
   },
   "file_extension": ".py",
   "mimetype": "text/x-python",
   "name": "python",
   "nbconvert_exporter": "python",
   "pygments_lexer": "ipython3",
   "version": "3.9.19"
  },
  "toc": {
   "base_numbering": 1,
   "nav_menu": {},
   "number_sections": true,
   "sideBar": true,
   "skip_h1_title": true,
   "title_cell": "Table of Contents",
   "title_sidebar": "Contents",
   "toc_cell": false,
   "toc_position": {},
   "toc_section_display": true,
   "toc_window_display": false
  }
 },
 "nbformat": 4,
 "nbformat_minor": 2
}
